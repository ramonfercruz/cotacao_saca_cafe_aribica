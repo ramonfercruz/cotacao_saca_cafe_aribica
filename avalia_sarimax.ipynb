{
  "nbformat": 4,
  "nbformat_minor": 0,
  "metadata": {
    "colab": {
      "provenance": [],
      "authorship_tag": "ABX9TyNE3QunwuIPUBHVOFkXmS1K",
      "include_colab_link": true
    },
    "kernelspec": {
      "name": "python3",
      "display_name": "Python 3"
    },
    "language_info": {
      "name": "python"
    }
  },
  "cells": [
    {
      "cell_type": "markdown",
      "metadata": {
        "id": "view-in-github",
        "colab_type": "text"
      },
      "source": [
        "<a href=\"https://colab.research.google.com/github/ramonfercruz/cotacao_saca_cafe_aribica/blob/main/avalia_sarimax.ipynb\" target=\"_parent\"><img src=\"https://colab.research.google.com/assets/colab-badge.svg\" alt=\"Open In Colab\"/></a>"
      ]
    },
    {
      "cell_type": "code",
      "source": [
        "pip install pmdarima"
      ],
      "metadata": {
        "colab": {
          "base_uri": "https://localhost:8080/"
        },
        "id": "HqA-ZO4Eyb_f",
        "outputId": "71655aa6-8685-4e74-965a-9387bfab3a73"
      },
      "execution_count": null,
      "outputs": [
        {
          "output_type": "stream",
          "name": "stdout",
          "text": [
            "Collecting pmdarima\n",
            "  Downloading pmdarima-2.0.3-cp310-cp310-manylinux_2_17_x86_64.manylinux2014_x86_64.manylinux_2_28_x86_64.whl (1.8 MB)\n",
            "\u001b[2K     \u001b[90m━━━━━━━━━━━━━━━━━━━━━━━━━━━━━━━━━━━━━━━━\u001b[0m \u001b[32m1.8/1.8 MB\u001b[0m \u001b[31m10.3 MB/s\u001b[0m eta \u001b[36m0:00:00\u001b[0m\n",
            "\u001b[?25hRequirement already satisfied: joblib>=0.11 in /usr/local/lib/python3.10/dist-packages (from pmdarima) (1.3.2)\n",
            "Requirement already satisfied: Cython!=0.29.18,!=0.29.31,>=0.29 in /usr/local/lib/python3.10/dist-packages (from pmdarima) (3.0.2)\n",
            "Requirement already satisfied: numpy>=1.21.2 in /usr/local/lib/python3.10/dist-packages (from pmdarima) (1.23.5)\n",
            "Requirement already satisfied: pandas>=0.19 in /usr/local/lib/python3.10/dist-packages (from pmdarima) (1.5.3)\n",
            "Requirement already satisfied: scikit-learn>=0.22 in /usr/local/lib/python3.10/dist-packages (from pmdarima) (1.2.2)\n",
            "Requirement already satisfied: scipy>=1.3.2 in /usr/local/lib/python3.10/dist-packages (from pmdarima) (1.11.2)\n",
            "Requirement already satisfied: statsmodels>=0.13.2 in /usr/local/lib/python3.10/dist-packages (from pmdarima) (0.14.0)\n",
            "Requirement already satisfied: urllib3 in /usr/local/lib/python3.10/dist-packages (from pmdarima) (2.0.4)\n",
            "Requirement already satisfied: setuptools!=50.0.0,>=38.6.0 in /usr/local/lib/python3.10/dist-packages (from pmdarima) (67.7.2)\n",
            "Requirement already satisfied: python-dateutil>=2.8.1 in /usr/local/lib/python3.10/dist-packages (from pandas>=0.19->pmdarima) (2.8.2)\n",
            "Requirement already satisfied: pytz>=2020.1 in /usr/local/lib/python3.10/dist-packages (from pandas>=0.19->pmdarima) (2023.3.post1)\n",
            "Requirement already satisfied: threadpoolctl>=2.0.0 in /usr/local/lib/python3.10/dist-packages (from scikit-learn>=0.22->pmdarima) (3.2.0)\n",
            "Requirement already satisfied: patsy>=0.5.2 in /usr/local/lib/python3.10/dist-packages (from statsmodels>=0.13.2->pmdarima) (0.5.3)\n",
            "Requirement already satisfied: packaging>=21.3 in /usr/local/lib/python3.10/dist-packages (from statsmodels>=0.13.2->pmdarima) (23.1)\n",
            "Requirement already satisfied: six in /usr/local/lib/python3.10/dist-packages (from patsy>=0.5.2->statsmodels>=0.13.2->pmdarima) (1.16.0)\n",
            "Installing collected packages: pmdarima\n",
            "Successfully installed pmdarima-2.0.3\n"
          ]
        }
      ]
    },
    {
      "cell_type": "code",
      "execution_count": null,
      "metadata": {
        "colab": {
          "base_uri": "https://localhost:8080/"
        },
        "id": "oiCdsiXZkMPq",
        "outputId": "ca12f110-9695-4115-bfcc-0dd119887340"
      },
      "outputs": [
        {
          "output_type": "stream",
          "name": "stdout",
          "text": [
            "Mounted at /content/drive\n"
          ]
        }
      ],
      "source": [
        "import os\n",
        "import pandas as pd\n",
        "from google.colab import drive\n",
        "drive.mount('/content/drive')\n",
        "DIRETORIO = '/content/drive/MyDrive/TCC/data/20230815'"
      ]
    },
    {
      "cell_type": "code",
      "source": [
        "import pandas as pd\n",
        "from sklearn.model_selection import TimeSeriesSplit\n",
        "import statsmodels.api as sm\n",
        "from matplotlib import pyplot as plt\n",
        "import seaborn as sns\n",
        "from sklearn import metrics"
      ],
      "metadata": {
        "id": "xpzJGObgkVbK"
      },
      "execution_count": null,
      "outputs": []
    },
    {
      "cell_type": "code",
      "source": [
        "data_frame = pd.read_excel(os.path.join(DIRETORIO,'cotacao_cafe_inrriquecida.xlsx'))\n",
        "data_frame = data_frame.query('ano >= 2010')\n",
        "data_frame.set_index('Data', inplace=True)\n",
        "data_frame.sort_index(  inplace=True)\n",
        "data_frame['diesel'].fillna(method='ffill', inplace=True)"
      ],
      "metadata": {
        "id": "4TewDk1JkalK"
      },
      "execution_count": null,
      "outputs": []
    },
    {
      "cell_type": "code",
      "source": [
        "def time_serie_train_test(index_train, index_teste, X, y):\n",
        "  X_train = X.iloc[index_train,:]\n",
        "  X_test = X.iloc[index_teste,:]\n",
        "  y_train = y.iloc[index_train]\n",
        "  y_test = y.iloc[index_teste]\n",
        "  return X_train, y_train, X_test, y_test\n",
        "\n",
        "def treina_modelo(model, i, X_train, y_train, X_test, y_test):\n",
        "  y_train_predict = model.fit_predict(X_train, y_train)\n",
        "  y_test_predict = model.predict(X_test, y_test)\n",
        "  dict_metrica = {}\n",
        "  dict_metrica['modelo'] = 'ARIMA'\n",
        "  dict_metrica['rodada'] = i\n",
        "  nome_metrica = 'mape'\n",
        "  dict_metrica = avalia_modelo_mestrica(y_train, y_train_predict, y_test, y_test_predict, metrics.mean_absolute_percentage_error, nome_metrica, dict_metrica)\n",
        "  nome_metrica = 'mse'\n",
        "  dict_metrica = avalia_modelo_mestrica(y_train, y_train_predict, y_test, y_test_predict, metrics.mean_squared_error, nome_metrica, dict_metrica)\n",
        "  nome_metrica = 'r2'\n",
        "  dict_metrica = avalia_modelo_mestrica(y_train, y_train_predict, y_test, y_test_predict, metrics.r2_score, nome_metrica, dict_metrica)\n",
        "  nome_metrica = 'mse_log'\n",
        "  dict_metrica = avalia_modelo_mestrica(y_train, y_train_predict, y_test, y_test_predict, metrics.mean_squared_log_error, nome_metrica, dict_metrica)\n",
        "  nome_metrica = 'mae'\n",
        "  dict_metrica = avalia_modelo_mestrica(y_train, y_train_predict, y_test, y_test_predict, metrics.mean_absolute_error, nome_metrica, dict_metrica)\n",
        "  nome_metrica = 'rmse'\n",
        "  dict_metrica = avalia_modelo_mestrica(y_train, y_train_predict, y_test, y_test_predict, root_mean_squared_error, nome_metrica, dict_metrica)\n",
        "  return dict_metrica\n",
        "\n",
        "def avalia_modelo_mestrica(y_train, y_train_predict, y_test, y_test_predict, metrica, nome_metrica, dict_metrica: dict):\n",
        "    train_metrica = metrica(y_train, y_train_predict)\n",
        "    test_metrica = metrica(y_test, y_test_predict)\n",
        "    dict_metrica[f'{nome_metrica}_train'] = train_metrica\n",
        "    dict_metrica[f'{nome_metrica}_test'] = test_metrica\n",
        "    return dict_metrica\n",
        "def root_mean_squared_error(y_true, y_predict):\n",
        "  return metrics.mean_squared_error(y_true, y_predict, squared=False)"
      ],
      "metadata": {
        "id": "Uf2YVnDRlmtM"
      },
      "execution_count": null,
      "outputs": []
    },
    {
      "cell_type": "code",
      "source": [
        "class MeuSarima:\n",
        "  def __init__(self, order, seasonal_order):\n",
        "    self.order = order\n",
        "    self.seasonal_order = seasonal_order\n",
        "    self.modelo = None\n",
        "    self.temp_model = None\n",
        "    self.X_train = None\n",
        "\n",
        "  def fit_predict(self, X, y):\n",
        "    self.X_train = X\n",
        "    self.y_train = y\n",
        "    modelo_sarimax = sm.tsa.SARIMAX(endog=self.y_train, exog=self.X_train, order=self.order, seasonal_order=self.seasonal_order)\n",
        "    self.modelo  = modelo_sarimax.fit()\n",
        "    return self.modelo.predict()\n",
        "  def predict(self, X, y):\n",
        "    y_test = y\n",
        "    X_train = X\n",
        "    n_predict = y_test.shape[0]\n",
        "    n_train = self.X_train.shape[0]\n",
        "    X_temp = self.X_train\n",
        "    y_temp = self.y_train\n",
        "    lista_resultados = []\n",
        "    for inicio, fim in enumerate(range(1, n_predict+ 1)):\n",
        "      model_temp = sm.tsa.SARIMAX(endog=y_temp, exog=X_temp, order=self.order, seasonal_order=self.seasonal_order)\n",
        "      model_temp = model_temp.filter(self.modelo.params)\n",
        "      X_test_temp = X_test[inicio:fim]\n",
        "      y_test_temp =  y_test[inicio:fim]\n",
        "      resultado = model_temp.predict(start=n_train, exog=X_test_temp)\n",
        "      lista_resultados.append(resultado)\n",
        "      X_temp = pd.concat([X_temp,X_test_temp ])\n",
        "      y_temp = pd.concat([y_temp,y_test_temp ])\n",
        "      n_train = n_train + 1\n",
        "    y_predict = pd.concat(lista_resultados)\n",
        "    return y_predict\n",
        "  def predict_train(self):\n",
        "    return self.modelo.predict()"
      ],
      "metadata": {
        "id": "qmu6Bf2z4xPe"
      },
      "execution_count": null,
      "outputs": []
    },
    {
      "cell_type": "code",
      "source": [
        "split_time_serie = TimeSeriesSplit(n_splits=5, test_size=10)"
      ],
      "metadata": {
        "id": "vUxUAEACkyCR"
      },
      "execution_count": null,
      "outputs": []
    },
    {
      "cell_type": "code",
      "source": [
        "data_frame.columns"
      ],
      "metadata": {
        "colab": {
          "base_uri": "https://localhost:8080/"
        },
        "id": "TjFhBUVR3f5o",
        "outputId": "c31effaf-280d-4b6b-af4c-d98804e381f6"
      },
      "execution_count": null,
      "outputs": [
        {
          "output_type": "execute_result",
          "data": {
            "text/plain": [
              "Index(['dolar', 'cafe_aribica', 'indices_preco_produtos', 'cafe_robusta',\n",
              "       'ano', 'mes', 'mes.1', 'INDICE', 'IPCA_MES', '3_MESES', 'IPCA_6_MESES',\n",
              "       'IPCA_ANO', '12_MESES', 'diesel', 'cafe_aribica_dif',\n",
              "       'cafe_aribica_mov_quadrimestre', 'cafe_aribica_mov_semestre',\n",
              "       'cafe_aribica_mov_anual', 'data_real', 'estacao_ano', 'inverno',\n",
              "       'outono', 'primavera', 'verao', 'April', 'August', 'December',\n",
              "       'February', 'January', 'July', 'June', 'March', 'May', 'November',\n",
              "       'October', 'September'],\n",
              "      dtype='object')"
            ]
          },
          "metadata": {},
          "execution_count": 54
        }
      ]
    },
    {
      "cell_type": "code",
      "source": [
        "X = data_frame[['dolar', 'diesel', '12_MESES']]\n",
        "y = data_frame['cafe_aribica']\n",
        "\n"
      ],
      "metadata": {
        "id": "LUwXPqbZk3Wt"
      },
      "execution_count": null,
      "outputs": []
    },
    {
      "cell_type": "code",
      "source": [
        "import warnings\n",
        "warnings.filterwarnings(\"ignore\")"
      ],
      "metadata": {
        "id": "ZML5ITXD2XnZ"
      },
      "execution_count": null,
      "outputs": []
    },
    {
      "cell_type": "code",
      "source": [
        "metricas = []\n",
        "for i, (index_train, index_teste) in enumerate(split_time_serie.split(X)):\n",
        "  X_train, y_train, X_test, y_test = time_serie_train_test(index_train, index_teste, X, y)\n",
        "  arima = MeuSarima(order=(1, 1, 0), seasonal_order=(0, 0, 0, 0))\n",
        "  metricas.append(treina_modelo(arima, i, X_train, y_train, X_test, y_test))"
      ],
      "metadata": {
        "id": "jcSt0MHakoWp"
      },
      "execution_count": null,
      "outputs": []
    },
    {
      "cell_type": "code",
      "source": [
        "df_metrica = pd.DataFrame(metricas)\n",
        "df_metrica"
      ],
      "metadata": {
        "id": "9IXGtOucllNY",
        "colab": {
          "base_uri": "https://localhost:8080/",
          "height": 206
        },
        "outputId": "8606f78a-4592-489f-91c6-2348d9f14440"
      },
      "execution_count": null,
      "outputs": [
        {
          "output_type": "execute_result",
          "data": {
            "text/plain": [
              "  modelo  rodada  mape_train  mape_test    mse_train     mse_test  r2_train  \\\n",
              "0  ARIMA       0    0.044952   0.072655   881.984348  1919.625272  0.842032   \n",
              "1  ARIMA       1    0.048807   0.067553  1036.637654  1754.835294  0.812373   \n",
              "2  ARIMA       2    0.049293   0.058675   935.668425  4751.739768  0.859603   \n",
              "3  ARIMA       3    0.046259   0.039947   862.808730  8153.709340  0.967389   \n",
              "4  ARIMA       4    0.051429   0.081946  1494.641973  8811.483614  0.979401   \n",
              "\n",
              "    r2_test  mse_log_train  mse_log_test  mae_train   mae_test  rmse_train  \\\n",
              "0  0.280694       0.018774      0.007895  17.927851  35.429757   29.698221   \n",
              "1  0.026398       0.027114      0.005977  19.876453  37.039864   32.196858   \n",
              "2  0.893309       0.011778      0.004777  20.916384  58.354615   30.588698   \n",
              "3 -0.095265       0.003606      0.004146  21.810073  52.651548   29.373606   \n",
              "4  0.043288       0.018419      0.007847  25.472763  83.849936   38.660600   \n",
              "\n",
              "   rmse_test  \n",
              "0  43.813528  \n",
              "1  41.890754  \n",
              "2  68.932864  \n",
              "3  90.297892  \n",
              "4  93.869503  "
            ],
            "text/html": [
              "\n",
              "  <div id=\"df-894a946a-323e-4b09-acdd-8eda18765b97\" class=\"colab-df-container\">\n",
              "    <div>\n",
              "<style scoped>\n",
              "    .dataframe tbody tr th:only-of-type {\n",
              "        vertical-align: middle;\n",
              "    }\n",
              "\n",
              "    .dataframe tbody tr th {\n",
              "        vertical-align: top;\n",
              "    }\n",
              "\n",
              "    .dataframe thead th {\n",
              "        text-align: right;\n",
              "    }\n",
              "</style>\n",
              "<table border=\"1\" class=\"dataframe\">\n",
              "  <thead>\n",
              "    <tr style=\"text-align: right;\">\n",
              "      <th></th>\n",
              "      <th>modelo</th>\n",
              "      <th>rodada</th>\n",
              "      <th>mape_train</th>\n",
              "      <th>mape_test</th>\n",
              "      <th>mse_train</th>\n",
              "      <th>mse_test</th>\n",
              "      <th>r2_train</th>\n",
              "      <th>r2_test</th>\n",
              "      <th>mse_log_train</th>\n",
              "      <th>mse_log_test</th>\n",
              "      <th>mae_train</th>\n",
              "      <th>mae_test</th>\n",
              "      <th>rmse_train</th>\n",
              "      <th>rmse_test</th>\n",
              "    </tr>\n",
              "  </thead>\n",
              "  <tbody>\n",
              "    <tr>\n",
              "      <th>0</th>\n",
              "      <td>ARIMA</td>\n",
              "      <td>0</td>\n",
              "      <td>0.044952</td>\n",
              "      <td>0.072655</td>\n",
              "      <td>881.984348</td>\n",
              "      <td>1919.625272</td>\n",
              "      <td>0.842032</td>\n",
              "      <td>0.280694</td>\n",
              "      <td>0.018774</td>\n",
              "      <td>0.007895</td>\n",
              "      <td>17.927851</td>\n",
              "      <td>35.429757</td>\n",
              "      <td>29.698221</td>\n",
              "      <td>43.813528</td>\n",
              "    </tr>\n",
              "    <tr>\n",
              "      <th>1</th>\n",
              "      <td>ARIMA</td>\n",
              "      <td>1</td>\n",
              "      <td>0.048807</td>\n",
              "      <td>0.067553</td>\n",
              "      <td>1036.637654</td>\n",
              "      <td>1754.835294</td>\n",
              "      <td>0.812373</td>\n",
              "      <td>0.026398</td>\n",
              "      <td>0.027114</td>\n",
              "      <td>0.005977</td>\n",
              "      <td>19.876453</td>\n",
              "      <td>37.039864</td>\n",
              "      <td>32.196858</td>\n",
              "      <td>41.890754</td>\n",
              "    </tr>\n",
              "    <tr>\n",
              "      <th>2</th>\n",
              "      <td>ARIMA</td>\n",
              "      <td>2</td>\n",
              "      <td>0.049293</td>\n",
              "      <td>0.058675</td>\n",
              "      <td>935.668425</td>\n",
              "      <td>4751.739768</td>\n",
              "      <td>0.859603</td>\n",
              "      <td>0.893309</td>\n",
              "      <td>0.011778</td>\n",
              "      <td>0.004777</td>\n",
              "      <td>20.916384</td>\n",
              "      <td>58.354615</td>\n",
              "      <td>30.588698</td>\n",
              "      <td>68.932864</td>\n",
              "    </tr>\n",
              "    <tr>\n",
              "      <th>3</th>\n",
              "      <td>ARIMA</td>\n",
              "      <td>3</td>\n",
              "      <td>0.046259</td>\n",
              "      <td>0.039947</td>\n",
              "      <td>862.808730</td>\n",
              "      <td>8153.709340</td>\n",
              "      <td>0.967389</td>\n",
              "      <td>-0.095265</td>\n",
              "      <td>0.003606</td>\n",
              "      <td>0.004146</td>\n",
              "      <td>21.810073</td>\n",
              "      <td>52.651548</td>\n",
              "      <td>29.373606</td>\n",
              "      <td>90.297892</td>\n",
              "    </tr>\n",
              "    <tr>\n",
              "      <th>4</th>\n",
              "      <td>ARIMA</td>\n",
              "      <td>4</td>\n",
              "      <td>0.051429</td>\n",
              "      <td>0.081946</td>\n",
              "      <td>1494.641973</td>\n",
              "      <td>8811.483614</td>\n",
              "      <td>0.979401</td>\n",
              "      <td>0.043288</td>\n",
              "      <td>0.018419</td>\n",
              "      <td>0.007847</td>\n",
              "      <td>25.472763</td>\n",
              "      <td>83.849936</td>\n",
              "      <td>38.660600</td>\n",
              "      <td>93.869503</td>\n",
              "    </tr>\n",
              "  </tbody>\n",
              "</table>\n",
              "</div>\n",
              "    <div class=\"colab-df-buttons\">\n",
              "\n",
              "  <div class=\"colab-df-container\">\n",
              "    <button class=\"colab-df-convert\" onclick=\"convertToInteractive('df-894a946a-323e-4b09-acdd-8eda18765b97')\"\n",
              "            title=\"Convert this dataframe to an interactive table.\"\n",
              "            style=\"display:none;\">\n",
              "\n",
              "  <svg xmlns=\"http://www.w3.org/2000/svg\" height=\"24px\" viewBox=\"0 -960 960 960\">\n",
              "    <path d=\"M120-120v-720h720v720H120Zm60-500h600v-160H180v160Zm220 220h160v-160H400v160Zm0 220h160v-160H400v160ZM180-400h160v-160H180v160Zm440 0h160v-160H620v160ZM180-180h160v-160H180v160Zm440 0h160v-160H620v160Z\"/>\n",
              "  </svg>\n",
              "    </button>\n",
              "\n",
              "  <style>\n",
              "    .colab-df-container {\n",
              "      display:flex;\n",
              "      gap: 12px;\n",
              "    }\n",
              "\n",
              "    .colab-df-convert {\n",
              "      background-color: #E8F0FE;\n",
              "      border: none;\n",
              "      border-radius: 50%;\n",
              "      cursor: pointer;\n",
              "      display: none;\n",
              "      fill: #1967D2;\n",
              "      height: 32px;\n",
              "      padding: 0 0 0 0;\n",
              "      width: 32px;\n",
              "    }\n",
              "\n",
              "    .colab-df-convert:hover {\n",
              "      background-color: #E2EBFA;\n",
              "      box-shadow: 0px 1px 2px rgba(60, 64, 67, 0.3), 0px 1px 3px 1px rgba(60, 64, 67, 0.15);\n",
              "      fill: #174EA6;\n",
              "    }\n",
              "\n",
              "    .colab-df-buttons div {\n",
              "      margin-bottom: 4px;\n",
              "    }\n",
              "\n",
              "    [theme=dark] .colab-df-convert {\n",
              "      background-color: #3B4455;\n",
              "      fill: #D2E3FC;\n",
              "    }\n",
              "\n",
              "    [theme=dark] .colab-df-convert:hover {\n",
              "      background-color: #434B5C;\n",
              "      box-shadow: 0px 1px 3px 1px rgba(0, 0, 0, 0.15);\n",
              "      filter: drop-shadow(0px 1px 2px rgba(0, 0, 0, 0.3));\n",
              "      fill: #FFFFFF;\n",
              "    }\n",
              "  </style>\n",
              "\n",
              "    <script>\n",
              "      const buttonEl =\n",
              "        document.querySelector('#df-894a946a-323e-4b09-acdd-8eda18765b97 button.colab-df-convert');\n",
              "      buttonEl.style.display =\n",
              "        google.colab.kernel.accessAllowed ? 'block' : 'none';\n",
              "\n",
              "      async function convertToInteractive(key) {\n",
              "        const element = document.querySelector('#df-894a946a-323e-4b09-acdd-8eda18765b97');\n",
              "        const dataTable =\n",
              "          await google.colab.kernel.invokeFunction('convertToInteractive',\n",
              "                                                    [key], {});\n",
              "        if (!dataTable) return;\n",
              "\n",
              "        const docLinkHtml = 'Like what you see? Visit the ' +\n",
              "          '<a target=\"_blank\" href=https://colab.research.google.com/notebooks/data_table.ipynb>data table notebook</a>'\n",
              "          + ' to learn more about interactive tables.';\n",
              "        element.innerHTML = '';\n",
              "        dataTable['output_type'] = 'display_data';\n",
              "        await google.colab.output.renderOutput(dataTable, element);\n",
              "        const docLink = document.createElement('div');\n",
              "        docLink.innerHTML = docLinkHtml;\n",
              "        element.appendChild(docLink);\n",
              "      }\n",
              "    </script>\n",
              "  </div>\n",
              "\n",
              "\n",
              "<div id=\"df-1fed28c7-4436-4d8b-86a0-87bcec327c66\">\n",
              "  <button class=\"colab-df-quickchart\" onclick=\"quickchart('df-1fed28c7-4436-4d8b-86a0-87bcec327c66')\"\n",
              "            title=\"Suggest charts.\"\n",
              "            style=\"display:none;\">\n",
              "\n",
              "<svg xmlns=\"http://www.w3.org/2000/svg\" height=\"24px\"viewBox=\"0 0 24 24\"\n",
              "     width=\"24px\">\n",
              "    <g>\n",
              "        <path d=\"M19 3H5c-1.1 0-2 .9-2 2v14c0 1.1.9 2 2 2h14c1.1 0 2-.9 2-2V5c0-1.1-.9-2-2-2zM9 17H7v-7h2v7zm4 0h-2V7h2v10zm4 0h-2v-4h2v4z\"/>\n",
              "    </g>\n",
              "</svg>\n",
              "  </button>\n",
              "\n",
              "<style>\n",
              "  .colab-df-quickchart {\n",
              "      --bg-color: #E8F0FE;\n",
              "      --fill-color: #1967D2;\n",
              "      --hover-bg-color: #E2EBFA;\n",
              "      --hover-fill-color: #174EA6;\n",
              "      --disabled-fill-color: #AAA;\n",
              "      --disabled-bg-color: #DDD;\n",
              "  }\n",
              "\n",
              "  [theme=dark] .colab-df-quickchart {\n",
              "      --bg-color: #3B4455;\n",
              "      --fill-color: #D2E3FC;\n",
              "      --hover-bg-color: #434B5C;\n",
              "      --hover-fill-color: #FFFFFF;\n",
              "      --disabled-bg-color: #3B4455;\n",
              "      --disabled-fill-color: #666;\n",
              "  }\n",
              "\n",
              "  .colab-df-quickchart {\n",
              "    background-color: var(--bg-color);\n",
              "    border: none;\n",
              "    border-radius: 50%;\n",
              "    cursor: pointer;\n",
              "    display: none;\n",
              "    fill: var(--fill-color);\n",
              "    height: 32px;\n",
              "    padding: 0;\n",
              "    width: 32px;\n",
              "  }\n",
              "\n",
              "  .colab-df-quickchart:hover {\n",
              "    background-color: var(--hover-bg-color);\n",
              "    box-shadow: 0 1px 2px rgba(60, 64, 67, 0.3), 0 1px 3px 1px rgba(60, 64, 67, 0.15);\n",
              "    fill: var(--button-hover-fill-color);\n",
              "  }\n",
              "\n",
              "  .colab-df-quickchart-complete:disabled,\n",
              "  .colab-df-quickchart-complete:disabled:hover {\n",
              "    background-color: var(--disabled-bg-color);\n",
              "    fill: var(--disabled-fill-color);\n",
              "    box-shadow: none;\n",
              "  }\n",
              "\n",
              "  .colab-df-spinner {\n",
              "    border: 2px solid var(--fill-color);\n",
              "    border-color: transparent;\n",
              "    border-bottom-color: var(--fill-color);\n",
              "    animation:\n",
              "      spin 1s steps(1) infinite;\n",
              "  }\n",
              "\n",
              "  @keyframes spin {\n",
              "    0% {\n",
              "      border-color: transparent;\n",
              "      border-bottom-color: var(--fill-color);\n",
              "      border-left-color: var(--fill-color);\n",
              "    }\n",
              "    20% {\n",
              "      border-color: transparent;\n",
              "      border-left-color: var(--fill-color);\n",
              "      border-top-color: var(--fill-color);\n",
              "    }\n",
              "    30% {\n",
              "      border-color: transparent;\n",
              "      border-left-color: var(--fill-color);\n",
              "      border-top-color: var(--fill-color);\n",
              "      border-right-color: var(--fill-color);\n",
              "    }\n",
              "    40% {\n",
              "      border-color: transparent;\n",
              "      border-right-color: var(--fill-color);\n",
              "      border-top-color: var(--fill-color);\n",
              "    }\n",
              "    60% {\n",
              "      border-color: transparent;\n",
              "      border-right-color: var(--fill-color);\n",
              "    }\n",
              "    80% {\n",
              "      border-color: transparent;\n",
              "      border-right-color: var(--fill-color);\n",
              "      border-bottom-color: var(--fill-color);\n",
              "    }\n",
              "    90% {\n",
              "      border-color: transparent;\n",
              "      border-bottom-color: var(--fill-color);\n",
              "    }\n",
              "  }\n",
              "</style>\n",
              "\n",
              "  <script>\n",
              "    async function quickchart(key) {\n",
              "      const quickchartButtonEl =\n",
              "        document.querySelector('#' + key + ' button');\n",
              "      quickchartButtonEl.disabled = true;  // To prevent multiple clicks.\n",
              "      quickchartButtonEl.classList.add('colab-df-spinner');\n",
              "      try {\n",
              "        const charts = await google.colab.kernel.invokeFunction(\n",
              "            'suggestCharts', [key], {});\n",
              "      } catch (error) {\n",
              "        console.error('Error during call to suggestCharts:', error);\n",
              "      }\n",
              "      quickchartButtonEl.classList.remove('colab-df-spinner');\n",
              "      quickchartButtonEl.classList.add('colab-df-quickchart-complete');\n",
              "    }\n",
              "    (() => {\n",
              "      let quickchartButtonEl =\n",
              "        document.querySelector('#df-1fed28c7-4436-4d8b-86a0-87bcec327c66 button');\n",
              "      quickchartButtonEl.style.display =\n",
              "        google.colab.kernel.accessAllowed ? 'block' : 'none';\n",
              "    })();\n",
              "  </script>\n",
              "</div>\n",
              "    </div>\n",
              "  </div>\n"
            ]
          },
          "metadata": {},
          "execution_count": 70
        }
      ]
    },
    {
      "cell_type": "code",
      "source": [
        "df_metrica.to_csv(os.path.join(DIRETORIO, 'metricas_sarimax.csv'), sep=';', decimal=',')"
      ],
      "metadata": {
        "id": "zIEJe5ClgJ03"
      },
      "execution_count": null,
      "outputs": []
    },
    {
      "cell_type": "code",
      "source": [
        "df_metrica_final_group = df_metrica.groupby(['modelo']).agg(media_mape_test=('mape_test', 'mean'),\n",
        "                                          #media_mape_train=('mape_train', 'mean'),\n",
        "                                          media_mse_test=('mse_test', 'mean'),\n",
        "                                          #media_mse_train=('mse_train', 'mean'),\n",
        "                                          media_r2_test=('r2_test', 'mean'),\n",
        "                                          #media_r2_train=('r2_train', 'mean'),\n",
        "                                          media_mse_log_test=('mse_log_test', 'mean'),\n",
        "                                          #media_mse_log_train=('mse_log_train', 'mean'),\n",
        "                                          media_mae_test=('mae_test', 'mean'),\n",
        "                                          media_rmse_test=('rmse_test', 'mean'),\n",
        "                                         )\n",
        "df_metrica_final_group"
      ],
      "metadata": {
        "id": "eGzF_Swh2n_l",
        "colab": {
          "base_uri": "https://localhost:8080/",
          "height": 112
        },
        "outputId": "73e1991c-b467-4de3-88da-882302385b2f"
      },
      "execution_count": null,
      "outputs": [
        {
          "output_type": "execute_result",
          "data": {
            "text/plain": [
              "        media_mape_test  media_mse_test  media_r2_test  media_mse_log_test  \\\n",
              "modelo                                                                       \n",
              "ARIMA          0.064155     5078.278657       0.229685            0.006128   \n",
              "\n",
              "        media_mae_test  media_rmse_test  \n",
              "modelo                                   \n",
              "ARIMA        53.465144        67.760908  "
            ],
            "text/html": [
              "\n",
              "  <div id=\"df-13107205-87ff-460f-8c59-dad243ec699b\" class=\"colab-df-container\">\n",
              "    <div>\n",
              "<style scoped>\n",
              "    .dataframe tbody tr th:only-of-type {\n",
              "        vertical-align: middle;\n",
              "    }\n",
              "\n",
              "    .dataframe tbody tr th {\n",
              "        vertical-align: top;\n",
              "    }\n",
              "\n",
              "    .dataframe thead th {\n",
              "        text-align: right;\n",
              "    }\n",
              "</style>\n",
              "<table border=\"1\" class=\"dataframe\">\n",
              "  <thead>\n",
              "    <tr style=\"text-align: right;\">\n",
              "      <th></th>\n",
              "      <th>media_mape_test</th>\n",
              "      <th>media_mse_test</th>\n",
              "      <th>media_r2_test</th>\n",
              "      <th>media_mse_log_test</th>\n",
              "      <th>media_mae_test</th>\n",
              "      <th>media_rmse_test</th>\n",
              "    </tr>\n",
              "    <tr>\n",
              "      <th>modelo</th>\n",
              "      <th></th>\n",
              "      <th></th>\n",
              "      <th></th>\n",
              "      <th></th>\n",
              "      <th></th>\n",
              "      <th></th>\n",
              "    </tr>\n",
              "  </thead>\n",
              "  <tbody>\n",
              "    <tr>\n",
              "      <th>ARIMA</th>\n",
              "      <td>0.064155</td>\n",
              "      <td>5078.278657</td>\n",
              "      <td>0.229685</td>\n",
              "      <td>0.006128</td>\n",
              "      <td>53.465144</td>\n",
              "      <td>67.760908</td>\n",
              "    </tr>\n",
              "  </tbody>\n",
              "</table>\n",
              "</div>\n",
              "    <div class=\"colab-df-buttons\">\n",
              "\n",
              "  <div class=\"colab-df-container\">\n",
              "    <button class=\"colab-df-convert\" onclick=\"convertToInteractive('df-13107205-87ff-460f-8c59-dad243ec699b')\"\n",
              "            title=\"Convert this dataframe to an interactive table.\"\n",
              "            style=\"display:none;\">\n",
              "\n",
              "  <svg xmlns=\"http://www.w3.org/2000/svg\" height=\"24px\" viewBox=\"0 -960 960 960\">\n",
              "    <path d=\"M120-120v-720h720v720H120Zm60-500h600v-160H180v160Zm220 220h160v-160H400v160Zm0 220h160v-160H400v160ZM180-400h160v-160H180v160Zm440 0h160v-160H620v160ZM180-180h160v-160H180v160Zm440 0h160v-160H620v160Z\"/>\n",
              "  </svg>\n",
              "    </button>\n",
              "\n",
              "  <style>\n",
              "    .colab-df-container {\n",
              "      display:flex;\n",
              "      gap: 12px;\n",
              "    }\n",
              "\n",
              "    .colab-df-convert {\n",
              "      background-color: #E8F0FE;\n",
              "      border: none;\n",
              "      border-radius: 50%;\n",
              "      cursor: pointer;\n",
              "      display: none;\n",
              "      fill: #1967D2;\n",
              "      height: 32px;\n",
              "      padding: 0 0 0 0;\n",
              "      width: 32px;\n",
              "    }\n",
              "\n",
              "    .colab-df-convert:hover {\n",
              "      background-color: #E2EBFA;\n",
              "      box-shadow: 0px 1px 2px rgba(60, 64, 67, 0.3), 0px 1px 3px 1px rgba(60, 64, 67, 0.15);\n",
              "      fill: #174EA6;\n",
              "    }\n",
              "\n",
              "    .colab-df-buttons div {\n",
              "      margin-bottom: 4px;\n",
              "    }\n",
              "\n",
              "    [theme=dark] .colab-df-convert {\n",
              "      background-color: #3B4455;\n",
              "      fill: #D2E3FC;\n",
              "    }\n",
              "\n",
              "    [theme=dark] .colab-df-convert:hover {\n",
              "      background-color: #434B5C;\n",
              "      box-shadow: 0px 1px 3px 1px rgba(0, 0, 0, 0.15);\n",
              "      filter: drop-shadow(0px 1px 2px rgba(0, 0, 0, 0.3));\n",
              "      fill: #FFFFFF;\n",
              "    }\n",
              "  </style>\n",
              "\n",
              "    <script>\n",
              "      const buttonEl =\n",
              "        document.querySelector('#df-13107205-87ff-460f-8c59-dad243ec699b button.colab-df-convert');\n",
              "      buttonEl.style.display =\n",
              "        google.colab.kernel.accessAllowed ? 'block' : 'none';\n",
              "\n",
              "      async function convertToInteractive(key) {\n",
              "        const element = document.querySelector('#df-13107205-87ff-460f-8c59-dad243ec699b');\n",
              "        const dataTable =\n",
              "          await google.colab.kernel.invokeFunction('convertToInteractive',\n",
              "                                                    [key], {});\n",
              "        if (!dataTable) return;\n",
              "\n",
              "        const docLinkHtml = 'Like what you see? Visit the ' +\n",
              "          '<a target=\"_blank\" href=https://colab.research.google.com/notebooks/data_table.ipynb>data table notebook</a>'\n",
              "          + ' to learn more about interactive tables.';\n",
              "        element.innerHTML = '';\n",
              "        dataTable['output_type'] = 'display_data';\n",
              "        await google.colab.output.renderOutput(dataTable, element);\n",
              "        const docLink = document.createElement('div');\n",
              "        docLink.innerHTML = docLinkHtml;\n",
              "        element.appendChild(docLink);\n",
              "      }\n",
              "    </script>\n",
              "  </div>\n",
              "\n",
              "    </div>\n",
              "  </div>\n"
            ]
          },
          "metadata": {},
          "execution_count": 72
        }
      ]
    },
    {
      "cell_type": "code",
      "source": [
        "data_frame"
      ],
      "metadata": {
        "colab": {
          "base_uri": "https://localhost:8080/",
          "height": 629
        },
        "id": "ge1OMhNIwbgE",
        "outputId": "43658b97-1232-40ab-99cf-e314deb820be"
      },
      "execution_count": null,
      "outputs": [
        {
          "output_type": "execute_result",
          "data": {
            "text/plain": [
              "            dolar  cafe_aribica  indices_preco_produtos  cafe_robusta     ano  \\\n",
              "Data                                                                            \n",
              "2010-01-01   1.78        280.75                   191.1        173.69  2010.0   \n",
              "2010-02-01   1.84        278.68                   175.7        168.47  2010.0   \n",
              "2010-03-01   1.79        279.70                   170.2        173.99  2010.0   \n",
              "2010-04-01   1.76        282.18                   171.7        158.23  2010.0   \n",
              "2010-05-01   1.82        289.46                   175.6        160.51  2010.0   \n",
              "...           ...           ...                     ...           ...     ...   \n",
              "2023-03-01   5.20       1104.68                   688.3        646.30  2023.0   \n",
              "2023-04-01   5.02       1106.36                   618.1        663.93  2023.0   \n",
              "2023-05-01   4.98       1039.88                   552.1        678.52  2023.0   \n",
              "2023-06-01   4.84        928.86                   536.2        706.26  2023.0   \n",
              "2023-07-01   4.80        819.61                     NaN        649.29  2023.0   \n",
              "\n",
              "            mes mes.1   INDICE  IPCA_MES  3_MESES  ...  December  February  \\\n",
              "Data                                               ...                       \n",
              "2010-01-01  1.0   JAN  3040.22      0.75     1.54  ...         0         0   \n",
              "2010-02-01  2.0   FEV  3063.93      0.78     1.91  ...         0         1   \n",
              "2010-03-01  3.0   MAR  3079.86      0.52     2.06  ...         0         0   \n",
              "2010-04-01  4.0   ABR  3097.42      0.57     1.88  ...         0         0   \n",
              "2010-05-01  5.0   MAI  3110.74      0.43     1.53  ...         0         0   \n",
              "...         ...   ...      ...       ...      ...  ...       ...       ...   \n",
              "2023-03-01  3.0   MAR  6609.67      0.71     2.09  ...         0         0   \n",
              "2023-04-01  4.0   ABR  6649.99      0.61     2.18  ...         0         0   \n",
              "2023-05-01  5.0   MAI  6665.28      0.23     1.56  ...         0         0   \n",
              "2023-06-01  6.0   JUN  6659.95     -0.08     0.76  ...         0         0   \n",
              "2023-07-01  7.0   JUL  6667.94      0.12     0.27  ...         0         0   \n",
              "\n",
              "            January  July  June  March  May  November October September  \n",
              "Data                                                                     \n",
              "2010-01-01        1     0     0      0    0         0       0         0  \n",
              "2010-02-01        0     0     0      0    0         0       0         0  \n",
              "2010-03-01        0     0     0      1    0         0       0         0  \n",
              "2010-04-01        0     0     0      0    0         0       0         0  \n",
              "2010-05-01        0     0     0      0    1         0       0         0  \n",
              "...             ...   ...   ...    ...  ...       ...     ...       ...  \n",
              "2023-03-01        0     0     0      1    0         0       0         0  \n",
              "2023-04-01        0     0     0      0    0         0       0         0  \n",
              "2023-05-01        0     0     0      0    1         0       0         0  \n",
              "2023-06-01        0     0     1      0    0         0       0         0  \n",
              "2023-07-01        0     1     0      0    0         0       0         0  \n",
              "\n",
              "[163 rows x 36 columns]"
            ],
            "text/html": [
              "\n",
              "  <div id=\"df-21b8ef61-2c7f-4979-98ab-d347cbcdda2c\" class=\"colab-df-container\">\n",
              "    <div>\n",
              "<style scoped>\n",
              "    .dataframe tbody tr th:only-of-type {\n",
              "        vertical-align: middle;\n",
              "    }\n",
              "\n",
              "    .dataframe tbody tr th {\n",
              "        vertical-align: top;\n",
              "    }\n",
              "\n",
              "    .dataframe thead th {\n",
              "        text-align: right;\n",
              "    }\n",
              "</style>\n",
              "<table border=\"1\" class=\"dataframe\">\n",
              "  <thead>\n",
              "    <tr style=\"text-align: right;\">\n",
              "      <th></th>\n",
              "      <th>dolar</th>\n",
              "      <th>cafe_aribica</th>\n",
              "      <th>indices_preco_produtos</th>\n",
              "      <th>cafe_robusta</th>\n",
              "      <th>ano</th>\n",
              "      <th>mes</th>\n",
              "      <th>mes.1</th>\n",
              "      <th>INDICE</th>\n",
              "      <th>IPCA_MES</th>\n",
              "      <th>3_MESES</th>\n",
              "      <th>...</th>\n",
              "      <th>December</th>\n",
              "      <th>February</th>\n",
              "      <th>January</th>\n",
              "      <th>July</th>\n",
              "      <th>June</th>\n",
              "      <th>March</th>\n",
              "      <th>May</th>\n",
              "      <th>November</th>\n",
              "      <th>October</th>\n",
              "      <th>September</th>\n",
              "    </tr>\n",
              "    <tr>\n",
              "      <th>Data</th>\n",
              "      <th></th>\n",
              "      <th></th>\n",
              "      <th></th>\n",
              "      <th></th>\n",
              "      <th></th>\n",
              "      <th></th>\n",
              "      <th></th>\n",
              "      <th></th>\n",
              "      <th></th>\n",
              "      <th></th>\n",
              "      <th></th>\n",
              "      <th></th>\n",
              "      <th></th>\n",
              "      <th></th>\n",
              "      <th></th>\n",
              "      <th></th>\n",
              "      <th></th>\n",
              "      <th></th>\n",
              "      <th></th>\n",
              "      <th></th>\n",
              "      <th></th>\n",
              "    </tr>\n",
              "  </thead>\n",
              "  <tbody>\n",
              "    <tr>\n",
              "      <th>2010-01-01</th>\n",
              "      <td>1.78</td>\n",
              "      <td>280.75</td>\n",
              "      <td>191.1</td>\n",
              "      <td>173.69</td>\n",
              "      <td>2010.0</td>\n",
              "      <td>1.0</td>\n",
              "      <td>JAN</td>\n",
              "      <td>3040.22</td>\n",
              "      <td>0.75</td>\n",
              "      <td>1.54</td>\n",
              "      <td>...</td>\n",
              "      <td>0</td>\n",
              "      <td>0</td>\n",
              "      <td>1</td>\n",
              "      <td>0</td>\n",
              "      <td>0</td>\n",
              "      <td>0</td>\n",
              "      <td>0</td>\n",
              "      <td>0</td>\n",
              "      <td>0</td>\n",
              "      <td>0</td>\n",
              "    </tr>\n",
              "    <tr>\n",
              "      <th>2010-02-01</th>\n",
              "      <td>1.84</td>\n",
              "      <td>278.68</td>\n",
              "      <td>175.7</td>\n",
              "      <td>168.47</td>\n",
              "      <td>2010.0</td>\n",
              "      <td>2.0</td>\n",
              "      <td>FEV</td>\n",
              "      <td>3063.93</td>\n",
              "      <td>0.78</td>\n",
              "      <td>1.91</td>\n",
              "      <td>...</td>\n",
              "      <td>0</td>\n",
              "      <td>1</td>\n",
              "      <td>0</td>\n",
              "      <td>0</td>\n",
              "      <td>0</td>\n",
              "      <td>0</td>\n",
              "      <td>0</td>\n",
              "      <td>0</td>\n",
              "      <td>0</td>\n",
              "      <td>0</td>\n",
              "    </tr>\n",
              "    <tr>\n",
              "      <th>2010-03-01</th>\n",
              "      <td>1.79</td>\n",
              "      <td>279.70</td>\n",
              "      <td>170.2</td>\n",
              "      <td>173.99</td>\n",
              "      <td>2010.0</td>\n",
              "      <td>3.0</td>\n",
              "      <td>MAR</td>\n",
              "      <td>3079.86</td>\n",
              "      <td>0.52</td>\n",
              "      <td>2.06</td>\n",
              "      <td>...</td>\n",
              "      <td>0</td>\n",
              "      <td>0</td>\n",
              "      <td>0</td>\n",
              "      <td>0</td>\n",
              "      <td>0</td>\n",
              "      <td>1</td>\n",
              "      <td>0</td>\n",
              "      <td>0</td>\n",
              "      <td>0</td>\n",
              "      <td>0</td>\n",
              "    </tr>\n",
              "    <tr>\n",
              "      <th>2010-04-01</th>\n",
              "      <td>1.76</td>\n",
              "      <td>282.18</td>\n",
              "      <td>171.7</td>\n",
              "      <td>158.23</td>\n",
              "      <td>2010.0</td>\n",
              "      <td>4.0</td>\n",
              "      <td>ABR</td>\n",
              "      <td>3097.42</td>\n",
              "      <td>0.57</td>\n",
              "      <td>1.88</td>\n",
              "      <td>...</td>\n",
              "      <td>0</td>\n",
              "      <td>0</td>\n",
              "      <td>0</td>\n",
              "      <td>0</td>\n",
              "      <td>0</td>\n",
              "      <td>0</td>\n",
              "      <td>0</td>\n",
              "      <td>0</td>\n",
              "      <td>0</td>\n",
              "      <td>0</td>\n",
              "    </tr>\n",
              "    <tr>\n",
              "      <th>2010-05-01</th>\n",
              "      <td>1.82</td>\n",
              "      <td>289.46</td>\n",
              "      <td>175.6</td>\n",
              "      <td>160.51</td>\n",
              "      <td>2010.0</td>\n",
              "      <td>5.0</td>\n",
              "      <td>MAI</td>\n",
              "      <td>3110.74</td>\n",
              "      <td>0.43</td>\n",
              "      <td>1.53</td>\n",
              "      <td>...</td>\n",
              "      <td>0</td>\n",
              "      <td>0</td>\n",
              "      <td>0</td>\n",
              "      <td>0</td>\n",
              "      <td>0</td>\n",
              "      <td>0</td>\n",
              "      <td>1</td>\n",
              "      <td>0</td>\n",
              "      <td>0</td>\n",
              "      <td>0</td>\n",
              "    </tr>\n",
              "    <tr>\n",
              "      <th>...</th>\n",
              "      <td>...</td>\n",
              "      <td>...</td>\n",
              "      <td>...</td>\n",
              "      <td>...</td>\n",
              "      <td>...</td>\n",
              "      <td>...</td>\n",
              "      <td>...</td>\n",
              "      <td>...</td>\n",
              "      <td>...</td>\n",
              "      <td>...</td>\n",
              "      <td>...</td>\n",
              "      <td>...</td>\n",
              "      <td>...</td>\n",
              "      <td>...</td>\n",
              "      <td>...</td>\n",
              "      <td>...</td>\n",
              "      <td>...</td>\n",
              "      <td>...</td>\n",
              "      <td>...</td>\n",
              "      <td>...</td>\n",
              "      <td>...</td>\n",
              "    </tr>\n",
              "    <tr>\n",
              "      <th>2023-03-01</th>\n",
              "      <td>5.20</td>\n",
              "      <td>1104.68</td>\n",
              "      <td>688.3</td>\n",
              "      <td>646.30</td>\n",
              "      <td>2023.0</td>\n",
              "      <td>3.0</td>\n",
              "      <td>MAR</td>\n",
              "      <td>6609.67</td>\n",
              "      <td>0.71</td>\n",
              "      <td>2.09</td>\n",
              "      <td>...</td>\n",
              "      <td>0</td>\n",
              "      <td>0</td>\n",
              "      <td>0</td>\n",
              "      <td>0</td>\n",
              "      <td>0</td>\n",
              "      <td>1</td>\n",
              "      <td>0</td>\n",
              "      <td>0</td>\n",
              "      <td>0</td>\n",
              "      <td>0</td>\n",
              "    </tr>\n",
              "    <tr>\n",
              "      <th>2023-04-01</th>\n",
              "      <td>5.02</td>\n",
              "      <td>1106.36</td>\n",
              "      <td>618.1</td>\n",
              "      <td>663.93</td>\n",
              "      <td>2023.0</td>\n",
              "      <td>4.0</td>\n",
              "      <td>ABR</td>\n",
              "      <td>6649.99</td>\n",
              "      <td>0.61</td>\n",
              "      <td>2.18</td>\n",
              "      <td>...</td>\n",
              "      <td>0</td>\n",
              "      <td>0</td>\n",
              "      <td>0</td>\n",
              "      <td>0</td>\n",
              "      <td>0</td>\n",
              "      <td>0</td>\n",
              "      <td>0</td>\n",
              "      <td>0</td>\n",
              "      <td>0</td>\n",
              "      <td>0</td>\n",
              "    </tr>\n",
              "    <tr>\n",
              "      <th>2023-05-01</th>\n",
              "      <td>4.98</td>\n",
              "      <td>1039.88</td>\n",
              "      <td>552.1</td>\n",
              "      <td>678.52</td>\n",
              "      <td>2023.0</td>\n",
              "      <td>5.0</td>\n",
              "      <td>MAI</td>\n",
              "      <td>6665.28</td>\n",
              "      <td>0.23</td>\n",
              "      <td>1.56</td>\n",
              "      <td>...</td>\n",
              "      <td>0</td>\n",
              "      <td>0</td>\n",
              "      <td>0</td>\n",
              "      <td>0</td>\n",
              "      <td>0</td>\n",
              "      <td>0</td>\n",
              "      <td>1</td>\n",
              "      <td>0</td>\n",
              "      <td>0</td>\n",
              "      <td>0</td>\n",
              "    </tr>\n",
              "    <tr>\n",
              "      <th>2023-06-01</th>\n",
              "      <td>4.84</td>\n",
              "      <td>928.86</td>\n",
              "      <td>536.2</td>\n",
              "      <td>706.26</td>\n",
              "      <td>2023.0</td>\n",
              "      <td>6.0</td>\n",
              "      <td>JUN</td>\n",
              "      <td>6659.95</td>\n",
              "      <td>-0.08</td>\n",
              "      <td>0.76</td>\n",
              "      <td>...</td>\n",
              "      <td>0</td>\n",
              "      <td>0</td>\n",
              "      <td>0</td>\n",
              "      <td>0</td>\n",
              "      <td>1</td>\n",
              "      <td>0</td>\n",
              "      <td>0</td>\n",
              "      <td>0</td>\n",
              "      <td>0</td>\n",
              "      <td>0</td>\n",
              "    </tr>\n",
              "    <tr>\n",
              "      <th>2023-07-01</th>\n",
              "      <td>4.80</td>\n",
              "      <td>819.61</td>\n",
              "      <td>NaN</td>\n",
              "      <td>649.29</td>\n",
              "      <td>2023.0</td>\n",
              "      <td>7.0</td>\n",
              "      <td>JUL</td>\n",
              "      <td>6667.94</td>\n",
              "      <td>0.12</td>\n",
              "      <td>0.27</td>\n",
              "      <td>...</td>\n",
              "      <td>0</td>\n",
              "      <td>0</td>\n",
              "      <td>0</td>\n",
              "      <td>1</td>\n",
              "      <td>0</td>\n",
              "      <td>0</td>\n",
              "      <td>0</td>\n",
              "      <td>0</td>\n",
              "      <td>0</td>\n",
              "      <td>0</td>\n",
              "    </tr>\n",
              "  </tbody>\n",
              "</table>\n",
              "<p>163 rows × 36 columns</p>\n",
              "</div>\n",
              "    <div class=\"colab-df-buttons\">\n",
              "\n",
              "  <div class=\"colab-df-container\">\n",
              "    <button class=\"colab-df-convert\" onclick=\"convertToInteractive('df-21b8ef61-2c7f-4979-98ab-d347cbcdda2c')\"\n",
              "            title=\"Convert this dataframe to an interactive table.\"\n",
              "            style=\"display:none;\">\n",
              "\n",
              "  <svg xmlns=\"http://www.w3.org/2000/svg\" height=\"24px\" viewBox=\"0 -960 960 960\">\n",
              "    <path d=\"M120-120v-720h720v720H120Zm60-500h600v-160H180v160Zm220 220h160v-160H400v160Zm0 220h160v-160H400v160ZM180-400h160v-160H180v160Zm440 0h160v-160H620v160ZM180-180h160v-160H180v160Zm440 0h160v-160H620v160Z\"/>\n",
              "  </svg>\n",
              "    </button>\n",
              "\n",
              "  <style>\n",
              "    .colab-df-container {\n",
              "      display:flex;\n",
              "      gap: 12px;\n",
              "    }\n",
              "\n",
              "    .colab-df-convert {\n",
              "      background-color: #E8F0FE;\n",
              "      border: none;\n",
              "      border-radius: 50%;\n",
              "      cursor: pointer;\n",
              "      display: none;\n",
              "      fill: #1967D2;\n",
              "      height: 32px;\n",
              "      padding: 0 0 0 0;\n",
              "      width: 32px;\n",
              "    }\n",
              "\n",
              "    .colab-df-convert:hover {\n",
              "      background-color: #E2EBFA;\n",
              "      box-shadow: 0px 1px 2px rgba(60, 64, 67, 0.3), 0px 1px 3px 1px rgba(60, 64, 67, 0.15);\n",
              "      fill: #174EA6;\n",
              "    }\n",
              "\n",
              "    .colab-df-buttons div {\n",
              "      margin-bottom: 4px;\n",
              "    }\n",
              "\n",
              "    [theme=dark] .colab-df-convert {\n",
              "      background-color: #3B4455;\n",
              "      fill: #D2E3FC;\n",
              "    }\n",
              "\n",
              "    [theme=dark] .colab-df-convert:hover {\n",
              "      background-color: #434B5C;\n",
              "      box-shadow: 0px 1px 3px 1px rgba(0, 0, 0, 0.15);\n",
              "      filter: drop-shadow(0px 1px 2px rgba(0, 0, 0, 0.3));\n",
              "      fill: #FFFFFF;\n",
              "    }\n",
              "  </style>\n",
              "\n",
              "    <script>\n",
              "      const buttonEl =\n",
              "        document.querySelector('#df-21b8ef61-2c7f-4979-98ab-d347cbcdda2c button.colab-df-convert');\n",
              "      buttonEl.style.display =\n",
              "        google.colab.kernel.accessAllowed ? 'block' : 'none';\n",
              "\n",
              "      async function convertToInteractive(key) {\n",
              "        const element = document.querySelector('#df-21b8ef61-2c7f-4979-98ab-d347cbcdda2c');\n",
              "        const dataTable =\n",
              "          await google.colab.kernel.invokeFunction('convertToInteractive',\n",
              "                                                    [key], {});\n",
              "        if (!dataTable) return;\n",
              "\n",
              "        const docLinkHtml = 'Like what you see? Visit the ' +\n",
              "          '<a target=\"_blank\" href=https://colab.research.google.com/notebooks/data_table.ipynb>data table notebook</a>'\n",
              "          + ' to learn more about interactive tables.';\n",
              "        element.innerHTML = '';\n",
              "        dataTable['output_type'] = 'display_data';\n",
              "        await google.colab.output.renderOutput(dataTable, element);\n",
              "        const docLink = document.createElement('div');\n",
              "        docLink.innerHTML = docLinkHtml;\n",
              "        element.appendChild(docLink);\n",
              "      }\n",
              "    </script>\n",
              "  </div>\n",
              "\n",
              "\n",
              "<div id=\"df-cbe7795e-da85-4a7b-b3a1-8d91b6f5bad7\">\n",
              "  <button class=\"colab-df-quickchart\" onclick=\"quickchart('df-cbe7795e-da85-4a7b-b3a1-8d91b6f5bad7')\"\n",
              "            title=\"Suggest charts.\"\n",
              "            style=\"display:none;\">\n",
              "\n",
              "<svg xmlns=\"http://www.w3.org/2000/svg\" height=\"24px\"viewBox=\"0 0 24 24\"\n",
              "     width=\"24px\">\n",
              "    <g>\n",
              "        <path d=\"M19 3H5c-1.1 0-2 .9-2 2v14c0 1.1.9 2 2 2h14c1.1 0 2-.9 2-2V5c0-1.1-.9-2-2-2zM9 17H7v-7h2v7zm4 0h-2V7h2v10zm4 0h-2v-4h2v4z\"/>\n",
              "    </g>\n",
              "</svg>\n",
              "  </button>\n",
              "\n",
              "<style>\n",
              "  .colab-df-quickchart {\n",
              "      --bg-color: #E8F0FE;\n",
              "      --fill-color: #1967D2;\n",
              "      --hover-bg-color: #E2EBFA;\n",
              "      --hover-fill-color: #174EA6;\n",
              "      --disabled-fill-color: #AAA;\n",
              "      --disabled-bg-color: #DDD;\n",
              "  }\n",
              "\n",
              "  [theme=dark] .colab-df-quickchart {\n",
              "      --bg-color: #3B4455;\n",
              "      --fill-color: #D2E3FC;\n",
              "      --hover-bg-color: #434B5C;\n",
              "      --hover-fill-color: #FFFFFF;\n",
              "      --disabled-bg-color: #3B4455;\n",
              "      --disabled-fill-color: #666;\n",
              "  }\n",
              "\n",
              "  .colab-df-quickchart {\n",
              "    background-color: var(--bg-color);\n",
              "    border: none;\n",
              "    border-radius: 50%;\n",
              "    cursor: pointer;\n",
              "    display: none;\n",
              "    fill: var(--fill-color);\n",
              "    height: 32px;\n",
              "    padding: 0;\n",
              "    width: 32px;\n",
              "  }\n",
              "\n",
              "  .colab-df-quickchart:hover {\n",
              "    background-color: var(--hover-bg-color);\n",
              "    box-shadow: 0 1px 2px rgba(60, 64, 67, 0.3), 0 1px 3px 1px rgba(60, 64, 67, 0.15);\n",
              "    fill: var(--button-hover-fill-color);\n",
              "  }\n",
              "\n",
              "  .colab-df-quickchart-complete:disabled,\n",
              "  .colab-df-quickchart-complete:disabled:hover {\n",
              "    background-color: var(--disabled-bg-color);\n",
              "    fill: var(--disabled-fill-color);\n",
              "    box-shadow: none;\n",
              "  }\n",
              "\n",
              "  .colab-df-spinner {\n",
              "    border: 2px solid var(--fill-color);\n",
              "    border-color: transparent;\n",
              "    border-bottom-color: var(--fill-color);\n",
              "    animation:\n",
              "      spin 1s steps(1) infinite;\n",
              "  }\n",
              "\n",
              "  @keyframes spin {\n",
              "    0% {\n",
              "      border-color: transparent;\n",
              "      border-bottom-color: var(--fill-color);\n",
              "      border-left-color: var(--fill-color);\n",
              "    }\n",
              "    20% {\n",
              "      border-color: transparent;\n",
              "      border-left-color: var(--fill-color);\n",
              "      border-top-color: var(--fill-color);\n",
              "    }\n",
              "    30% {\n",
              "      border-color: transparent;\n",
              "      border-left-color: var(--fill-color);\n",
              "      border-top-color: var(--fill-color);\n",
              "      border-right-color: var(--fill-color);\n",
              "    }\n",
              "    40% {\n",
              "      border-color: transparent;\n",
              "      border-right-color: var(--fill-color);\n",
              "      border-top-color: var(--fill-color);\n",
              "    }\n",
              "    60% {\n",
              "      border-color: transparent;\n",
              "      border-right-color: var(--fill-color);\n",
              "    }\n",
              "    80% {\n",
              "      border-color: transparent;\n",
              "      border-right-color: var(--fill-color);\n",
              "      border-bottom-color: var(--fill-color);\n",
              "    }\n",
              "    90% {\n",
              "      border-color: transparent;\n",
              "      border-bottom-color: var(--fill-color);\n",
              "    }\n",
              "  }\n",
              "</style>\n",
              "\n",
              "  <script>\n",
              "    async function quickchart(key) {\n",
              "      const quickchartButtonEl =\n",
              "        document.querySelector('#' + key + ' button');\n",
              "      quickchartButtonEl.disabled = true;  // To prevent multiple clicks.\n",
              "      quickchartButtonEl.classList.add('colab-df-spinner');\n",
              "      try {\n",
              "        const charts = await google.colab.kernel.invokeFunction(\n",
              "            'suggestCharts', [key], {});\n",
              "      } catch (error) {\n",
              "        console.error('Error during call to suggestCharts:', error);\n",
              "      }\n",
              "      quickchartButtonEl.classList.remove('colab-df-spinner');\n",
              "      quickchartButtonEl.classList.add('colab-df-quickchart-complete');\n",
              "    }\n",
              "    (() => {\n",
              "      let quickchartButtonEl =\n",
              "        document.querySelector('#df-cbe7795e-da85-4a7b-b3a1-8d91b6f5bad7 button');\n",
              "      quickchartButtonEl.style.display =\n",
              "        google.colab.kernel.accessAllowed ? 'block' : 'none';\n",
              "    })();\n",
              "  </script>\n",
              "</div>\n",
              "    </div>\n",
              "  </div>\n"
            ]
          },
          "metadata": {},
          "execution_count": 73
        }
      ]
    },
    {
      "cell_type": "code",
      "source": [
        "X_data"
      ],
      "metadata": {
        "colab": {
          "base_uri": "https://localhost:8080/",
          "height": 455
        },
        "id": "n3gKqVjh3wu6",
        "outputId": "9da1795b-7c46-4283-ac45-90b0fd6484db"
      },
      "execution_count": null,
      "outputs": [
        {
          "output_type": "execute_result",
          "data": {
            "text/plain": [
              "            dolar    diesel   INDICE\n",
              "Data                                \n",
              "2010-01-01   1.78  2.001532  3040.22\n",
              "2010-02-01   1.84  2.008321  3063.93\n",
              "2010-03-01   1.79  2.008185  3079.86\n",
              "2010-04-01   1.76  2.006729  3097.42\n",
              "2010-05-01   1.82  2.006144  3110.74\n",
              "...           ...       ...      ...\n",
              "2022-05-01   4.95  6.867940  6412.88\n",
              "2022-06-01   5.06  7.231846  6455.85\n",
              "2022-07-01   5.37  7.490087  6411.95\n",
              "2022-08-01   5.15  7.133912  6388.87\n",
              "2022-09-01   5.23  6.883995  6370.34\n",
              "\n",
              "[153 rows x 3 columns]"
            ],
            "text/html": [
              "\n",
              "  <div id=\"df-26e9563a-93f7-4770-8a18-39e8c599308c\" class=\"colab-df-container\">\n",
              "    <div>\n",
              "<style scoped>\n",
              "    .dataframe tbody tr th:only-of-type {\n",
              "        vertical-align: middle;\n",
              "    }\n",
              "\n",
              "    .dataframe tbody tr th {\n",
              "        vertical-align: top;\n",
              "    }\n",
              "\n",
              "    .dataframe thead th {\n",
              "        text-align: right;\n",
              "    }\n",
              "</style>\n",
              "<table border=\"1\" class=\"dataframe\">\n",
              "  <thead>\n",
              "    <tr style=\"text-align: right;\">\n",
              "      <th></th>\n",
              "      <th>dolar</th>\n",
              "      <th>diesel</th>\n",
              "      <th>INDICE</th>\n",
              "    </tr>\n",
              "    <tr>\n",
              "      <th>Data</th>\n",
              "      <th></th>\n",
              "      <th></th>\n",
              "      <th></th>\n",
              "    </tr>\n",
              "  </thead>\n",
              "  <tbody>\n",
              "    <tr>\n",
              "      <th>2010-01-01</th>\n",
              "      <td>1.78</td>\n",
              "      <td>2.001532</td>\n",
              "      <td>3040.22</td>\n",
              "    </tr>\n",
              "    <tr>\n",
              "      <th>2010-02-01</th>\n",
              "      <td>1.84</td>\n",
              "      <td>2.008321</td>\n",
              "      <td>3063.93</td>\n",
              "    </tr>\n",
              "    <tr>\n",
              "      <th>2010-03-01</th>\n",
              "      <td>1.79</td>\n",
              "      <td>2.008185</td>\n",
              "      <td>3079.86</td>\n",
              "    </tr>\n",
              "    <tr>\n",
              "      <th>2010-04-01</th>\n",
              "      <td>1.76</td>\n",
              "      <td>2.006729</td>\n",
              "      <td>3097.42</td>\n",
              "    </tr>\n",
              "    <tr>\n",
              "      <th>2010-05-01</th>\n",
              "      <td>1.82</td>\n",
              "      <td>2.006144</td>\n",
              "      <td>3110.74</td>\n",
              "    </tr>\n",
              "    <tr>\n",
              "      <th>...</th>\n",
              "      <td>...</td>\n",
              "      <td>...</td>\n",
              "      <td>...</td>\n",
              "    </tr>\n",
              "    <tr>\n",
              "      <th>2022-05-01</th>\n",
              "      <td>4.95</td>\n",
              "      <td>6.867940</td>\n",
              "      <td>6412.88</td>\n",
              "    </tr>\n",
              "    <tr>\n",
              "      <th>2022-06-01</th>\n",
              "      <td>5.06</td>\n",
              "      <td>7.231846</td>\n",
              "      <td>6455.85</td>\n",
              "    </tr>\n",
              "    <tr>\n",
              "      <th>2022-07-01</th>\n",
              "      <td>5.37</td>\n",
              "      <td>7.490087</td>\n",
              "      <td>6411.95</td>\n",
              "    </tr>\n",
              "    <tr>\n",
              "      <th>2022-08-01</th>\n",
              "      <td>5.15</td>\n",
              "      <td>7.133912</td>\n",
              "      <td>6388.87</td>\n",
              "    </tr>\n",
              "    <tr>\n",
              "      <th>2022-09-01</th>\n",
              "      <td>5.23</td>\n",
              "      <td>6.883995</td>\n",
              "      <td>6370.34</td>\n",
              "    </tr>\n",
              "  </tbody>\n",
              "</table>\n",
              "<p>153 rows × 3 columns</p>\n",
              "</div>\n",
              "    <div class=\"colab-df-buttons\">\n",
              "\n",
              "  <div class=\"colab-df-container\">\n",
              "    <button class=\"colab-df-convert\" onclick=\"convertToInteractive('df-26e9563a-93f7-4770-8a18-39e8c599308c')\"\n",
              "            title=\"Convert this dataframe to an interactive table.\"\n",
              "            style=\"display:none;\">\n",
              "\n",
              "  <svg xmlns=\"http://www.w3.org/2000/svg\" height=\"24px\" viewBox=\"0 -960 960 960\">\n",
              "    <path d=\"M120-120v-720h720v720H120Zm60-500h600v-160H180v160Zm220 220h160v-160H400v160Zm0 220h160v-160H400v160ZM180-400h160v-160H180v160Zm440 0h160v-160H620v160ZM180-180h160v-160H180v160Zm440 0h160v-160H620v160Z\"/>\n",
              "  </svg>\n",
              "    </button>\n",
              "\n",
              "  <style>\n",
              "    .colab-df-container {\n",
              "      display:flex;\n",
              "      gap: 12px;\n",
              "    }\n",
              "\n",
              "    .colab-df-convert {\n",
              "      background-color: #E8F0FE;\n",
              "      border: none;\n",
              "      border-radius: 50%;\n",
              "      cursor: pointer;\n",
              "      display: none;\n",
              "      fill: #1967D2;\n",
              "      height: 32px;\n",
              "      padding: 0 0 0 0;\n",
              "      width: 32px;\n",
              "    }\n",
              "\n",
              "    .colab-df-convert:hover {\n",
              "      background-color: #E2EBFA;\n",
              "      box-shadow: 0px 1px 2px rgba(60, 64, 67, 0.3), 0px 1px 3px 1px rgba(60, 64, 67, 0.15);\n",
              "      fill: #174EA6;\n",
              "    }\n",
              "\n",
              "    .colab-df-buttons div {\n",
              "      margin-bottom: 4px;\n",
              "    }\n",
              "\n",
              "    [theme=dark] .colab-df-convert {\n",
              "      background-color: #3B4455;\n",
              "      fill: #D2E3FC;\n",
              "    }\n",
              "\n",
              "    [theme=dark] .colab-df-convert:hover {\n",
              "      background-color: #434B5C;\n",
              "      box-shadow: 0px 1px 3px 1px rgba(0, 0, 0, 0.15);\n",
              "      filter: drop-shadow(0px 1px 2px rgba(0, 0, 0, 0.3));\n",
              "      fill: #FFFFFF;\n",
              "    }\n",
              "  </style>\n",
              "\n",
              "    <script>\n",
              "      const buttonEl =\n",
              "        document.querySelector('#df-26e9563a-93f7-4770-8a18-39e8c599308c button.colab-df-convert');\n",
              "      buttonEl.style.display =\n",
              "        google.colab.kernel.accessAllowed ? 'block' : 'none';\n",
              "\n",
              "      async function convertToInteractive(key) {\n",
              "        const element = document.querySelector('#df-26e9563a-93f7-4770-8a18-39e8c599308c');\n",
              "        const dataTable =\n",
              "          await google.colab.kernel.invokeFunction('convertToInteractive',\n",
              "                                                    [key], {});\n",
              "        if (!dataTable) return;\n",
              "\n",
              "        const docLinkHtml = 'Like what you see? Visit the ' +\n",
              "          '<a target=\"_blank\" href=https://colab.research.google.com/notebooks/data_table.ipynb>data table notebook</a>'\n",
              "          + ' to learn more about interactive tables.';\n",
              "        element.innerHTML = '';\n",
              "        dataTable['output_type'] = 'display_data';\n",
              "        await google.colab.output.renderOutput(dataTable, element);\n",
              "        const docLink = document.createElement('div');\n",
              "        docLink.innerHTML = docLinkHtml;\n",
              "        element.appendChild(docLink);\n",
              "      }\n",
              "    </script>\n",
              "  </div>\n",
              "\n",
              "\n",
              "<div id=\"df-b088bb31-9e04-4e3f-a5b9-f6d12e5a3653\">\n",
              "  <button class=\"colab-df-quickchart\" onclick=\"quickchart('df-b088bb31-9e04-4e3f-a5b9-f6d12e5a3653')\"\n",
              "            title=\"Suggest charts.\"\n",
              "            style=\"display:none;\">\n",
              "\n",
              "<svg xmlns=\"http://www.w3.org/2000/svg\" height=\"24px\"viewBox=\"0 0 24 24\"\n",
              "     width=\"24px\">\n",
              "    <g>\n",
              "        <path d=\"M19 3H5c-1.1 0-2 .9-2 2v14c0 1.1.9 2 2 2h14c1.1 0 2-.9 2-2V5c0-1.1-.9-2-2-2zM9 17H7v-7h2v7zm4 0h-2V7h2v10zm4 0h-2v-4h2v4z\"/>\n",
              "    </g>\n",
              "</svg>\n",
              "  </button>\n",
              "\n",
              "<style>\n",
              "  .colab-df-quickchart {\n",
              "      --bg-color: #E8F0FE;\n",
              "      --fill-color: #1967D2;\n",
              "      --hover-bg-color: #E2EBFA;\n",
              "      --hover-fill-color: #174EA6;\n",
              "      --disabled-fill-color: #AAA;\n",
              "      --disabled-bg-color: #DDD;\n",
              "  }\n",
              "\n",
              "  [theme=dark] .colab-df-quickchart {\n",
              "      --bg-color: #3B4455;\n",
              "      --fill-color: #D2E3FC;\n",
              "      --hover-bg-color: #434B5C;\n",
              "      --hover-fill-color: #FFFFFF;\n",
              "      --disabled-bg-color: #3B4455;\n",
              "      --disabled-fill-color: #666;\n",
              "  }\n",
              "\n",
              "  .colab-df-quickchart {\n",
              "    background-color: var(--bg-color);\n",
              "    border: none;\n",
              "    border-radius: 50%;\n",
              "    cursor: pointer;\n",
              "    display: none;\n",
              "    fill: var(--fill-color);\n",
              "    height: 32px;\n",
              "    padding: 0;\n",
              "    width: 32px;\n",
              "  }\n",
              "\n",
              "  .colab-df-quickchart:hover {\n",
              "    background-color: var(--hover-bg-color);\n",
              "    box-shadow: 0 1px 2px rgba(60, 64, 67, 0.3), 0 1px 3px 1px rgba(60, 64, 67, 0.15);\n",
              "    fill: var(--button-hover-fill-color);\n",
              "  }\n",
              "\n",
              "  .colab-df-quickchart-complete:disabled,\n",
              "  .colab-df-quickchart-complete:disabled:hover {\n",
              "    background-color: var(--disabled-bg-color);\n",
              "    fill: var(--disabled-fill-color);\n",
              "    box-shadow: none;\n",
              "  }\n",
              "\n",
              "  .colab-df-spinner {\n",
              "    border: 2px solid var(--fill-color);\n",
              "    border-color: transparent;\n",
              "    border-bottom-color: var(--fill-color);\n",
              "    animation:\n",
              "      spin 1s steps(1) infinite;\n",
              "  }\n",
              "\n",
              "  @keyframes spin {\n",
              "    0% {\n",
              "      border-color: transparent;\n",
              "      border-bottom-color: var(--fill-color);\n",
              "      border-left-color: var(--fill-color);\n",
              "    }\n",
              "    20% {\n",
              "      border-color: transparent;\n",
              "      border-left-color: var(--fill-color);\n",
              "      border-top-color: var(--fill-color);\n",
              "    }\n",
              "    30% {\n",
              "      border-color: transparent;\n",
              "      border-left-color: var(--fill-color);\n",
              "      border-top-color: var(--fill-color);\n",
              "      border-right-color: var(--fill-color);\n",
              "    }\n",
              "    40% {\n",
              "      border-color: transparent;\n",
              "      border-right-color: var(--fill-color);\n",
              "      border-top-color: var(--fill-color);\n",
              "    }\n",
              "    60% {\n",
              "      border-color: transparent;\n",
              "      border-right-color: var(--fill-color);\n",
              "    }\n",
              "    80% {\n",
              "      border-color: transparent;\n",
              "      border-right-color: var(--fill-color);\n",
              "      border-bottom-color: var(--fill-color);\n",
              "    }\n",
              "    90% {\n",
              "      border-color: transparent;\n",
              "      border-bottom-color: var(--fill-color);\n",
              "    }\n",
              "  }\n",
              "</style>\n",
              "\n",
              "  <script>\n",
              "    async function quickchart(key) {\n",
              "      const quickchartButtonEl =\n",
              "        document.querySelector('#' + key + ' button');\n",
              "      quickchartButtonEl.disabled = true;  // To prevent multiple clicks.\n",
              "      quickchartButtonEl.classList.add('colab-df-spinner');\n",
              "      try {\n",
              "        const charts = await google.colab.kernel.invokeFunction(\n",
              "            'suggestCharts', [key], {});\n",
              "      } catch (error) {\n",
              "        console.error('Error during call to suggestCharts:', error);\n",
              "      }\n",
              "      quickchartButtonEl.classList.remove('colab-df-spinner');\n",
              "      quickchartButtonEl.classList.add('colab-df-quickchart-complete');\n",
              "    }\n",
              "    (() => {\n",
              "      let quickchartButtonEl =\n",
              "        document.querySelector('#df-b088bb31-9e04-4e3f-a5b9-f6d12e5a3653 button');\n",
              "      quickchartButtonEl.style.display =\n",
              "        google.colab.kernel.accessAllowed ? 'block' : 'none';\n",
              "    })();\n",
              "  </script>\n",
              "</div>\n",
              "    </div>\n",
              "  </div>\n"
            ]
          },
          "metadata": {},
          "execution_count": 74
        }
      ]
    },
    {
      "cell_type": "code",
      "source": [],
      "metadata": {
        "id": "5ATgqxDQ3zzM"
      },
      "execution_count": null,
      "outputs": []
    },
    {
      "cell_type": "code",
      "source": [
        "import pmdarima\n",
        "from pmdarima.arima import ARIMA"
      ],
      "metadata": {
        "id": "j5iJ3B-hylqI"
      },
      "execution_count": null,
      "outputs": []
    },
    {
      "cell_type": "code",
      "source": [
        "data = data_frame[:-10]\n",
        "y_data = data['cafe_aribica']\n",
        "X_data  = data[['dolar', 'diesel', 'INDICE']]"
      ],
      "metadata": {
        "id": "pAZ4WGDHAEzD"
      },
      "execution_count": null,
      "outputs": []
    },
    {
      "cell_type": "code",
      "source": [
        "#arima_model = ARIMA(order=(1, 1, 0), seasonal_order=(2, 1, 0, 12))\n",
        "\n",
        "arima_model = ARIMA(order=(1, 1, 0))\n",
        "arima_model.fit(X=X_data, y=y_data, information_criterion='aic', maxiter=100)"
      ],
      "metadata": {
        "colab": {
          "base_uri": "https://localhost:8080/",
          "height": 75
        },
        "id": "0CzQ-w5Iy7H7",
        "outputId": "e4667f6d-00d7-46d1-ad9b-3e27b8f0a8ce"
      },
      "execution_count": null,
      "outputs": [
        {
          "output_type": "execute_result",
          "data": {
            "text/plain": [
              "ARIMA(order=(1, 1, 0))"
            ],
            "text/html": [
              "<style>#sk-container-id-9 {color: black;background-color: white;}#sk-container-id-9 pre{padding: 0;}#sk-container-id-9 div.sk-toggleable {background-color: white;}#sk-container-id-9 label.sk-toggleable__label {cursor: pointer;display: block;width: 100%;margin-bottom: 0;padding: 0.3em;box-sizing: border-box;text-align: center;}#sk-container-id-9 label.sk-toggleable__label-arrow:before {content: \"▸\";float: left;margin-right: 0.25em;color: #696969;}#sk-container-id-9 label.sk-toggleable__label-arrow:hover:before {color: black;}#sk-container-id-9 div.sk-estimator:hover label.sk-toggleable__label-arrow:before {color: black;}#sk-container-id-9 div.sk-toggleable__content {max-height: 0;max-width: 0;overflow: hidden;text-align: left;background-color: #f0f8ff;}#sk-container-id-9 div.sk-toggleable__content pre {margin: 0.2em;color: black;border-radius: 0.25em;background-color: #f0f8ff;}#sk-container-id-9 input.sk-toggleable__control:checked~div.sk-toggleable__content {max-height: 200px;max-width: 100%;overflow: auto;}#sk-container-id-9 input.sk-toggleable__control:checked~label.sk-toggleable__label-arrow:before {content: \"▾\";}#sk-container-id-9 div.sk-estimator input.sk-toggleable__control:checked~label.sk-toggleable__label {background-color: #d4ebff;}#sk-container-id-9 div.sk-label input.sk-toggleable__control:checked~label.sk-toggleable__label {background-color: #d4ebff;}#sk-container-id-9 input.sk-hidden--visually {border: 0;clip: rect(1px 1px 1px 1px);clip: rect(1px, 1px, 1px, 1px);height: 1px;margin: -1px;overflow: hidden;padding: 0;position: absolute;width: 1px;}#sk-container-id-9 div.sk-estimator {font-family: monospace;background-color: #f0f8ff;border: 1px dotted black;border-radius: 0.25em;box-sizing: border-box;margin-bottom: 0.5em;}#sk-container-id-9 div.sk-estimator:hover {background-color: #d4ebff;}#sk-container-id-9 div.sk-parallel-item::after {content: \"\";width: 100%;border-bottom: 1px solid gray;flex-grow: 1;}#sk-container-id-9 div.sk-label:hover label.sk-toggleable__label {background-color: #d4ebff;}#sk-container-id-9 div.sk-serial::before {content: \"\";position: absolute;border-left: 1px solid gray;box-sizing: border-box;top: 0;bottom: 0;left: 50%;z-index: 0;}#sk-container-id-9 div.sk-serial {display: flex;flex-direction: column;align-items: center;background-color: white;padding-right: 0.2em;padding-left: 0.2em;position: relative;}#sk-container-id-9 div.sk-item {position: relative;z-index: 1;}#sk-container-id-9 div.sk-parallel {display: flex;align-items: stretch;justify-content: center;background-color: white;position: relative;}#sk-container-id-9 div.sk-item::before, #sk-container-id-9 div.sk-parallel-item::before {content: \"\";position: absolute;border-left: 1px solid gray;box-sizing: border-box;top: 0;bottom: 0;left: 50%;z-index: -1;}#sk-container-id-9 div.sk-parallel-item {display: flex;flex-direction: column;z-index: 1;position: relative;background-color: white;}#sk-container-id-9 div.sk-parallel-item:first-child::after {align-self: flex-end;width: 50%;}#sk-container-id-9 div.sk-parallel-item:last-child::after {align-self: flex-start;width: 50%;}#sk-container-id-9 div.sk-parallel-item:only-child::after {width: 0;}#sk-container-id-9 div.sk-dashed-wrapped {border: 1px dashed gray;margin: 0 0.4em 0.5em 0.4em;box-sizing: border-box;padding-bottom: 0.4em;background-color: white;}#sk-container-id-9 div.sk-label label {font-family: monospace;font-weight: bold;display: inline-block;line-height: 1.2em;}#sk-container-id-9 div.sk-label-container {text-align: center;}#sk-container-id-9 div.sk-container {/* jupyter's `normalize.less` sets `[hidden] { display: none; }` but bootstrap.min.css set `[hidden] { display: none !important; }` so we also need the `!important` here to be able to override the default hidden behavior on the sphinx rendered scikit-learn.org. See: https://github.com/scikit-learn/scikit-learn/issues/21755 */display: inline-block !important;position: relative;}#sk-container-id-9 div.sk-text-repr-fallback {display: none;}</style><div id=\"sk-container-id-9\" class=\"sk-top-container\"><div class=\"sk-text-repr-fallback\"><pre> ARIMA(1,1,0)(0,0,0)[0] intercept</pre><b>In a Jupyter environment, please rerun this cell to show the HTML representation or trust the notebook. <br />On GitHub, the HTML representation is unable to render, please try loading this page with nbviewer.org.</b></div><div class=\"sk-container\" hidden><div class=\"sk-item\"><div class=\"sk-estimator sk-toggleable\"><input class=\"sk-toggleable__control sk-hidden--visually\" id=\"sk-estimator-id-9\" type=\"checkbox\" checked><label for=\"sk-estimator-id-9\" class=\"sk-toggleable__label sk-toggleable__label-arrow\">ARIMA</label><div class=\"sk-toggleable__content\"><pre> ARIMA(1,1,0)(0,0,0)[0] intercept</pre></div></div></div></div></div>"
            ]
          },
          "metadata": {},
          "execution_count": 77
        }
      ]
    },
    {
      "cell_type": "code",
      "source": [
        "print(arima_model.summary())"
      ],
      "metadata": {
        "colab": {
          "base_uri": "https://localhost:8080/"
        },
        "id": "HXL9y6Bcz4qt",
        "outputId": "917419fb-9b3e-4e4f-e763-47a43af3ff82"
      },
      "execution_count": null,
      "outputs": [
        {
          "output_type": "stream",
          "name": "stdout",
          "text": [
            "                               SARIMAX Results                                \n",
            "==============================================================================\n",
            "Dep. Variable:                      y   No. Observations:                  153\n",
            "Model:               SARIMAX(1, 1, 0)   Log Likelihood                -750.410\n",
            "Date:                Wed, 13 Sep 2023   AIC                           1512.820\n",
            "Time:                        01:15:05   BIC                           1530.963\n",
            "Sample:                    01-01-2010   HQIC                          1520.190\n",
            "                         - 09-01-2022                                         \n",
            "Covariance Type:                  opg                                         \n",
            "==============================================================================\n",
            "                 coef    std err          z      P>|z|      [0.025      0.975]\n",
            "------------------------------------------------------------------------------\n",
            "intercept     -2.0666      4.731     -0.437      0.662     -11.339       7.206\n",
            "dolar         58.1656     17.389      3.345      0.001      24.084      92.247\n",
            "diesel       -59.8227     23.506     -2.545      0.011    -105.894     -13.752\n",
            "INDICE         0.4705      0.195      2.412      0.016       0.088       0.853\n",
            "ar.L1          0.3320      0.074      4.460      0.000       0.186       0.478\n",
            "sigma2      1135.9777     98.983     11.477      0.000     941.975    1329.981\n",
            "===================================================================================\n",
            "Ljung-Box (L1) (Q):                   0.00   Jarque-Bera (JB):               271.48\n",
            "Prob(Q):                              0.94   Prob(JB):                         0.00\n",
            "Heteroskedasticity (H):               4.04   Skew:                            -0.74\n",
            "Prob(H) (two-sided):                  0.00   Kurtosis:                         9.38\n",
            "===================================================================================\n",
            "\n",
            "Warnings:\n",
            "[1] Covariance matrix calculated using the outer product of gradients (complex-step).\n"
          ]
        }
      ]
    },
    {
      "cell_type": "code",
      "source": [
        "arima_model.resid()"
      ],
      "metadata": {
        "colab": {
          "base_uri": "https://localhost:8080/"
        },
        "id": "X0vqXk1QAe-w",
        "outputId": "e2cda523-2b8a-465e-f4d7-9bc664bd2ba6"
      },
      "execution_count": null,
      "outputs": [
        {
          "output_type": "execute_result",
          "data": {
            "text/plain": [
              "Data\n",
              "2010-01-01   -1130.444206\n",
              "2010-02-01     -12.737437\n",
              "2010-03-01       3.906648\n",
              "2010-04-01      -0.870816\n",
              "2010-05-01       0.923817\n",
              "                 ...     \n",
              "2022-05-01      11.777117\n",
              "2022-06-01      69.470805\n",
              "2022-07-01     -16.350306\n",
              "2022-08-01     -13.484052\n",
              "2022-09-01      -8.310093\n",
              "Length: 153, dtype: float64"
            ]
          },
          "metadata": {},
          "execution_count": 64
        }
      ]
    },
    {
      "cell_type": "code",
      "source": [
        "from statsmodels.graphics.tsaplots import plot_acf, plot_pacf\n",
        "fig = plt.figure(figsize=(10, 3))\n",
        "ax1 = fig.add_subplot(111)\n",
        "ax = plot_acf(arima_model.resid(), ax=ax1, title='')"
      ],
      "metadata": {
        "colab": {
          "base_uri": "https://localhost:8080/",
          "height": 297
        },
        "id": "NSAME3Be_6mm",
        "outputId": "07b56eda-8d5e-4897-97d5-fc2b2b170b1d"
      },
      "execution_count": null,
      "outputs": [
        {
          "output_type": "display_data",
          "data": {
            "text/plain": [
              "<Figure size 1000x300 with 1 Axes>"
            ],
            "image/png": "[encoded data removed]"
          },
          "metadata": {}
        }
      ]
    },
    {
      "cell_type": "code",
      "source": [
        "plt.figure(figsize=(10,20))\n",
        "arima_model.plot_diagnostics(figsize=(20,10));"
      ],
      "metadata": {
        "colab": {
          "base_uri": "https://localhost:8080/",
          "height": 872
        },
        "id": "08exGM9Z0nLb",
        "outputId": "f9b387aa-324d-4130-adde-a83c63c72ddb"
      },
      "execution_count": null,
      "outputs": [
        {
          "output_type": "display_data",
          "data": {
            "text/plain": [
              "<Figure size 1000x2000 with 0 Axes>"
            ]
          },
          "metadata": {}
        },
        {
          "output_type": "display_data",
          "data": {
            "text/plain": [
              "<Figure size 2000x1000 with 4 Axes>"
            ],
            "image/png": "[encoded data removed]"
          },
          "metadata": {}
        }
      ]
    },
    {
      "cell_type": "code",
      "source": [],
      "metadata": {
        "id": "vAtfWyUltNPG"
      },
      "execution_count": null,
      "outputs": []
    },
    {
      "cell_type": "code",
      "source": [
        "df_metrica_final_group.to_csv(os.path.join(DIRETORIO, 'agg_metricas_sarimax.csv'), sep=';', decimal=',')"
      ],
      "metadata": {
        "id": "bMSHnkXTgp3z"
      },
      "execution_count": null,
      "outputs": []
    },
    {
      "cell_type": "code",
      "source": [
        "pip install pmdarima"
      ],
      "metadata": {
        "id": "sCNgs7vDyij5"
      },
      "execution_count": null,
      "outputs": []
    },
    {
      "cell_type": "code",
      "source": [
        "sarimax_model = sm.tsa.SARIMAX(endog=y_data, exog=X_data, order=(1, 1, 0), seasonal_order=(2, 1, 0, 6))\n",
        "sarimax_model_fit = sarimax_model.fit()"
      ],
      "metadata": {
        "id": "PAISGFdhojFZ"
      },
      "execution_count": null,
      "outputs": []
    },
    {
      "cell_type": "code",
      "source": [
        "print(sarimax_model_fit.summary())"
      ],
      "metadata": {
        "colab": {
          "base_uri": "https://localhost:8080/"
        },
        "id": "duEmzZoXk45_",
        "outputId": "5f00c004-c49b-493d-a351-aeb8e27a9e29"
      },
      "execution_count": null,
      "outputs": [
        {
          "output_type": "stream",
          "name": "stdout",
          "text": [
            "                                     SARIMAX Results                                     \n",
            "=========================================================================================\n",
            "Dep. Variable:                      cafe_aribica   No. Observations:                  153\n",
            "Model:             SARIMAX(1, 1, 0)x(2, 1, 0, 6)   Log Likelihood                -736.101\n",
            "Date:                           Tue, 12 Sep 2023   AIC                           1486.203\n",
            "Time:                                   00:57:30   BIC                           1507.088\n",
            "Sample:                               01-01-2010   HQIC                          1494.689\n",
            "                                    - 09-01-2022                                         \n",
            "Covariance Type:                             opg                                         \n",
            "==============================================================================\n",
            "                 coef    std err          z      P>|z|      [0.025      0.975]\n",
            "------------------------------------------------------------------------------\n",
            "dolar         66.0363     16.348      4.039      0.000      33.995      98.078\n",
            "diesel       -78.4660     22.174     -3.539      0.000    -121.926     -35.007\n",
            "INDICE         0.6019      0.193      3.121      0.002       0.224       0.980\n",
            "ar.L1          0.3241      0.081      3.980      0.000       0.165       0.484\n",
            "ar.S.L6       -0.5740      0.087     -6.598      0.000      -0.744      -0.403\n",
            "ar.S.L12      -0.4519      0.089     -5.055      0.000      -0.627      -0.277\n",
            "sigma2      1361.6403    148.490      9.170      0.000    1070.606    1652.674\n",
            "===================================================================================\n",
            "Ljung-Box (L1) (Q):                   0.04   Jarque-Bera (JB):                34.06\n",
            "Prob(Q):                              0.83   Prob(JB):                         0.00\n",
            "Heteroskedasticity (H):               3.12   Skew:                            -0.33\n",
            "Prob(H) (two-sided):                  0.00   Kurtosis:                         5.27\n",
            "===================================================================================\n",
            "\n",
            "Warnings:\n",
            "[1] Covariance matrix calculated using the outer product of gradients (complex-step).\n"
          ]
        }
      ]
    },
    {
      "cell_type": "code",
      "source": [
        "sarimax_model_fit.params"
      ],
      "metadata": {
        "colab": {
          "base_uri": "https://localhost:8080/"
        },
        "id": "_NmKlZKEuvfA",
        "outputId": "cf422389-9d90-4001-ff6e-973f85731b9a"
      },
      "execution_count": null,
      "outputs": [
        {
          "output_type": "execute_result",
          "data": {
            "text/plain": [
              "dolar         55.172248\n",
              "diesel       -31.248151\n",
              "ar.L1          0.361788\n",
              "ar.S.L6       -0.612894\n",
              "ar.S.L12      -0.393613\n",
              "sigma2      1461.925210\n",
              "dtype: float64"
            ]
          },
          "metadata": {},
          "execution_count": 188
        }
      ]
    },
    {
      "cell_type": "code",
      "source": [
        "sarimax_model_fit.plot_diagnostics(figsize=(20,10));"
      ],
      "metadata": {
        "colab": {
          "base_uri": "https://localhost:8080/",
          "height": 872
        },
        "id": "ZQLN6f_tglZ1",
        "outputId": "48c2294b-2796-43a0-9eda-f963e36a9631"
      },
      "execution_count": null,
      "outputs": [
        {
          "output_type": "display_data",
          "data": {
            "text/plain": [
              "<Figure size 2000x1000 with 4 Axes>"
            ],
            "image/png": "[encoded data removed]"
          },
          "metadata": {}
        }
      ]
    },
    {
      "cell_type": "code",
      "source": [
        "from statsmodels.graphics.tsaplots import plot_acf, plot_pacf\n",
        "fig = plt.figure(figsize=(10, 3))\n",
        "ax1 = fig.add_subplot(111)\n",
        "ax = plot_acf(sarimax_model_fit.resid, ax=ax1, title='')"
      ],
      "metadata": {
        "id": "uypui6FjqF8H",
        "colab": {
          "base_uri": "https://localhost:8080/",
          "height": 297
        },
        "outputId": "e9aa30c4-7c3a-4d17-9486-ca5fc8e5e59d"
      },
      "execution_count": null,
      "outputs": [
        {
          "output_type": "display_data",
          "data": {
            "text/plain": [
              "<Figure size 1000x300 with 1 Axes>"
            ],
            "image/png": "[encoded data removed]"
          },
          "metadata": {}
        }
      ]
    },
    {
      "cell_type": "code",
      "source": [
        "rediduos = sarimax_model_fit.resid\n",
        "rediduos"
      ],
      "metadata": {
        "colab": {
          "base_uri": "https://localhost:8080/"
        },
        "id": "3s7L5N9Ilm5c",
        "outputId": "2a482e0b-a28d-404d-ede1-7c371c93b086"
      },
      "execution_count": null,
      "outputs": [
        {
          "output_type": "execute_result",
          "data": {
            "text/plain": [
              "Data\n",
              "2010-01-01    228.172308\n",
              "2010-02-01     -6.636054\n",
              "2010-03-01      2.333839\n",
              "2010-04-01      3.772325\n",
              "2010-05-01      3.887501\n",
              "                 ...    \n",
              "2022-05-01    -77.593293\n",
              "2022-06-01     43.520267\n",
              "2022-07-01    -63.426023\n",
              "2022-08-01    -53.400974\n",
              "2022-09-01     82.136344\n",
              "Length: 153, dtype: float64"
            ]
          },
          "metadata": {},
          "execution_count": 176
        }
      ]
    },
    {
      "cell_type": "code",
      "source": [
        "rediduos.describe()"
      ],
      "metadata": {
        "colab": {
          "base_uri": "https://localhost:8080/"
        },
        "id": "PqfYQRdbqIUj",
        "outputId": "b0055e50-35f8-40ae-8f7d-9b772abcfade"
      },
      "execution_count": null,
      "outputs": [
        {
          "output_type": "execute_result",
          "data": {
            "text/plain": [
              "count    153.000000\n",
              "mean       1.609440\n",
              "std       45.161548\n",
              "min     -192.565080\n",
              "25%      -18.389273\n",
              "50%        3.071051\n",
              "75%       21.769089\n",
              "max      228.172308\n",
              "dtype: float64"
            ]
          },
          "metadata": {},
          "execution_count": 177
        }
      ]
    },
    {
      "cell_type": "code",
      "source": [
        "rediduos.sort_values()"
      ],
      "metadata": {
        "colab": {
          "base_uri": "https://localhost:8080/"
        },
        "id": "HU29B1pZqLgb",
        "outputId": "f6104e9c-ff4a-424a-d8d6-741478790841"
      },
      "execution_count": null,
      "outputs": [
        {
          "output_type": "execute_result",
          "data": {
            "text/plain": [
              "Data\n",
              "2022-03-01   -192.565080\n",
              "2010-07-01   -114.185417\n",
              "2020-06-01    -96.203311\n",
              "2016-12-01    -87.622021\n",
              "2020-01-01    -81.759065\n",
              "                 ...    \n",
              "2021-05-01     81.629425\n",
              "2022-09-01     82.136344\n",
              "2020-07-01     88.644037\n",
              "2021-10-01    126.778372\n",
              "2010-01-01    228.172308\n",
              "Length: 153, dtype: float64"
            ]
          },
          "metadata": {},
          "execution_count": 178
        }
      ]
    },
    {
      "cell_type": "code",
      "source": [
        "sns.histplot(rediduos)"
      ],
      "metadata": {
        "colab": {
          "base_uri": "https://localhost:8080/",
          "height": 447
        },
        "id": "EE0gw4LKlt91",
        "outputId": "3c9407ba-f2e2-469a-ca1a-24c30e92ce5c"
      },
      "execution_count": null,
      "outputs": [
        {
          "output_type": "execute_result",
          "data": {
            "text/plain": [
              "<Axes: ylabel='Count'>"
            ]
          },
          "metadata": {},
          "execution_count": 179
        },
        {
          "output_type": "display_data",
          "data": {
            "text/plain": [
              "<Figure size 640x480 with 1 Axes>"
            ],
            "image/png": "[encoded data removed]"
          },
          "metadata": {}
        }
      ]
    },
    {
      "cell_type": "code",
      "source": [],
      "metadata": {
        "id": "jiKMVmBZrVWv"
      },
      "execution_count": null,
      "outputs": []
    },
    {
      "cell_type": "code",
      "source": [
        "from statsmodels.stats.stattools import jarque_bera\n",
        "\n",
        "redultado = jarque_bera(rediduos)"
      ],
      "metadata": {
        "id": "YQ43_4ZUmgsS"
      },
      "execution_count": null,
      "outputs": []
    },
    {
      "cell_type": "code",
      "source": [
        "\n",
        "redultado"
      ],
      "metadata": {
        "colab": {
          "base_uri": "https://localhost:8080/"
        },
        "id": "kNSIMnUNmpYU",
        "outputId": "2f3941e0-1ec9-4e6a-8dd7-ede7cfc363be"
      },
      "execution_count": null,
      "outputs": [
        {
          "output_type": "execute_result",
          "data": {
            "text/plain": [
              "(191.63638604360827,\n",
              " 2.4360573297376582e-42,\n",
              " 0.23845671269056826,\n",
              " 8.461974291422397)"
            ]
          },
          "metadata": {},
          "execution_count": 181
        }
      ]
    },
    {
      "cell_type": "code",
      "source": [
        "print(' '*254)\n",
        "print('Estatística Jarque-Bera :', redultado[0])\n",
        "print('P-valor :', redultado[1])\n",
        "print('Assimetria :', redultado[2])\n",
        "print('Curtose :',redultado[3])"
      ],
      "metadata": {
        "colab": {
          "base_uri": "https://localhost:8080/"
        },
        "id": "Q23mgPkpnDOr",
        "outputId": "d652bdc7-7e7a-4262-cd8e-36a6dd646347"
      },
      "execution_count": null,
      "outputs": [
        {
          "output_type": "stream",
          "name": "stdout",
          "text": [
            "                                                                                                                                                                                                                                                              \n",
            "Estatística Jarque-Bera : 667.2580250002668\n",
            "P-valor : 1.2786770439200552e-145\n",
            "Assimetria : 1.2503932597038356\n",
            "Curtose : 12.920382667749607\n"
          ]
        }
      ]
    },
    {
      "cell_type": "code",
      "source": [
        "scaler_y = None\n",
        "def reshape_y(y, scaler_y):\n",
        "  return y"
      ],
      "metadata": {
        "id": "wpgMYl7O25NU"
      },
      "execution_count": null,
      "outputs": []
    },
    {
      "cell_type": "code",
      "source": [
        "y_train_predict = arima.predict_train()\n",
        "y_pred = arima.predict( X_test, y_test)\n",
        "scaler_y = None\n",
        "test_y = y_test"
      ],
      "metadata": {
        "id": "d3yHgim34pLQ"
      },
      "execution_count": null,
      "outputs": []
    },
    {
      "cell_type": "code",
      "source": [
        "compara_treino_teste(y, y_train_predict, y_pred, scaler_y, test_y)"
      ],
      "metadata": {
        "colab": {
          "base_uri": "https://localhost:8080/",
          "height": 311
        },
        "id": "942Eg55P4BH0",
        "outputId": "cedf51a0-beb5-4352-9135-b92d6e401079"
      },
      "execution_count": null,
      "outputs": [
        {
          "output_type": "display_data",
          "data": {
            "text/plain": [
              "<Figure size 1000x300 with 1 Axes>"
            ],
            "image/png": "[encoded data removed]"
          },
          "metadata": {}
        }
      ]
    },
    {
      "cell_type": "code",
      "source": [
        "def compara_treino_teste(y, y_train_predict, y_pred, scaler_y, test_y):\n",
        "    train_size = len(y_train_predict)\n",
        "    y_size = len(y)\n",
        "    test_size = len(test_y)\n",
        "\n",
        "    plt.figure(figsize=(10, 3))\n",
        "    ax = sns.lineplot(y=y, x=range(y_size), color='#ff7f0e',label='Valor real')\n",
        "    ax1 = sns.lineplot(y=reshape_y(y_train_predict, scaler_y), x=range(train_size), linestyle='--', color='#17becf', label='Predição treino')\n",
        "    ax2 = sns.lineplot(y=reshape_y(y_pred, scaler_y), x=range(train_size, train_size + test_size), linestyle=':', color='#1f77b4',label='Predição Teste')\n",
        "    ax.set_ylabel('Cotação Café')\n",
        "    ax.set_xlabel('Período')"
      ],
      "metadata": {
        "id": "DEvfJaqwlDvf"
      },
      "execution_count": null,
      "outputs": []
    },
    {
      "cell_type": "code",
      "source": [
        "X_train.shape"
      ],
      "metadata": {
        "colab": {
          "base_uri": "https://localhost:8080/"
        },
        "id": "HsKhSpvupPc7",
        "outputId": "860fb081-66db-4390-9afc-c8275dd8b8d6"
      },
      "execution_count": null,
      "outputs": [
        {
          "output_type": "execute_result",
          "data": {
            "text/plain": [
              "(113, 3)"
            ]
          },
          "metadata": {},
          "execution_count": 60
        }
      ]
    },
    {
      "cell_type": "code",
      "source": [
        "\n"
      ],
      "metadata": {
        "id": "U_SyZ1gGpvj8"
      },
      "execution_count": null,
      "outputs": []
    },
    {
      "cell_type": "code",
      "source": [
        "y.shape[0]"
      ],
      "metadata": {
        "colab": {
          "base_uri": "https://localhost:8080/"
        },
        "id": "L8pcEp6-rN3F",
        "outputId": "bc91e63a-4d41-4a59-e458-3410c4f79eb7"
      },
      "execution_count": null,
      "outputs": [
        {
          "output_type": "execute_result",
          "data": {
            "text/plain": [
              "163"
            ]
          },
          "metadata": {},
          "execution_count": 176
        }
      ]
    },
    {
      "cell_type": "code",
      "source": [
        "n_train = X_train.shape[0]"
      ],
      "metadata": {
        "id": "fces3qC2rSvn"
      },
      "execution_count": null,
      "outputs": []
    },
    {
      "cell_type": "code",
      "source": [
        "n_predict = y_test.shape[0]\n",
        "n_train = X_train.shape[0]\n",
        "X_temp = X_train\n",
        "y_temp = y_train\n",
        "lista_resultados = []\n",
        "for inicio, fim in enumerate(range(1, n_predict+ 1)):\n",
        "  model_temp = sm.tsa.SARIMAX(endog=y_temp, exog=X_temp, order=(1, 1, 0), seasonal_order=(2, 1, 0, 12), freq='MS')\n",
        "  model_temp = model_temp.filter(modelo_fit.params)\n",
        "  X_test_temp = X_test[inicio:fim]\n",
        "  y_test_temp =  y_test[inicio:fim]\n",
        "  resultado = model_temp.predict(start=n_train, exog=X_test_temp)\n",
        "  lista_resultados.append(resultado)\n",
        "  X_temp = pd.concat([X_temp,X_test_temp ])\n",
        "  y_temp = pd.concat([y_temp,y_test_temp ])\n",
        "  n_train = n_train + 1\n",
        "y_predict = pd.concat(lista_resultados)"
      ],
      "metadata": {
        "id": "9ayMEVBvrfk6"
      },
      "execution_count": null,
      "outputs": []
    },
    {
      "cell_type": "code",
      "source": [
        "def compara_treino_teste(y, y_train_predict, y_pred, scaler_y):\n",
        "    train_size = len(y_train_predict)\n",
        "    y_size = len(y)\n",
        "    test_size = len(test_y)\n",
        "\n",
        "    plt.figure(figsize=(10, 3))\n",
        "    ax = sns.lineplot(y=reshape_y(y, scaler_y), x=range(y_size), color='#ff7f0e',label='Valor real')\n",
        "    ax1 = sns.lineplot(y=reshape_y(y_train_predict, scaler_y), x=range(train_size), linestyle='--', color='#17becf', label='Predição treino')\n",
        "    ax2 = sns.lineplot(y=reshape_y(y_pred, scaler_y), x=range(train_size, train_size + test_size), linestyle=':', color='#1f77b4',label='Predição Teste')\n",
        "    ax.set_ylabel('Cotação Café')\n",
        "    ax.set_xlabel('Período')"
      ],
      "metadata": {
        "id": "2F6G8si4xUBA"
      },
      "execution_count": null,
      "outputs": []
    },
    {
      "cell_type": "code",
      "source": [
        "compara_treino_teste(y, y_train_predict, y_pred, scaler_y)"
      ],
      "metadata": {
        "colab": {
          "base_uri": "https://localhost:8080/"
        },
        "id": "M4vQRpJkyHEP",
        "outputId": "5b89d1e8-9416-4e09-cd7b-296e168122c5"
      },
      "execution_count": null,
      "outputs": [
        {
          "output_type": "stream",
          "name": "stdout",
          "text": [
            "                                     SARIMAX Results                                      \n",
            "==========================================================================================\n",
            "Dep. Variable:                       cafe_aribica   No. Observations:                  113\n",
            "Model:             SARIMAX(1, 1, 0)x(2, 1, 0, 12)   Log Likelihood                -474.913\n",
            "Date:                            Sun, 10 Sep 2023   AIC                            963.827\n",
            "Time:                                    20:29:19   BIC                            982.063\n",
            "Sample:                                01-01-2010   HQIC                           971.207\n",
            "                                     - 05-01-2019                                         \n",
            "Covariance Type:                              opg                                         \n",
            "==============================================================================\n",
            "                 coef    std err          z      P>|z|      [0.025      0.975]\n",
            "------------------------------------------------------------------------------\n",
            "dolar         14.2131     29.763      0.478      0.633     -44.121      72.547\n",
            "diesel         0.8745     78.108      0.011      0.991    -152.214     153.963\n",
            "12_MESES       2.4600      7.130      0.345      0.730     -11.514      16.434\n",
            "ar.L1          0.1330      0.086      1.555      0.120      -0.035       0.301\n",
            "ar.S.L12      -0.6400      0.127     -5.023      0.000      -0.890      -0.390\n",
            "ar.S.L24      -0.4752      0.079     -5.979      0.000      -0.631      -0.319\n",
            "sigma2       715.4977    100.883      7.092      0.000     517.770     913.225\n",
            "===================================================================================\n",
            "Ljung-Box (L1) (Q):                   0.19   Jarque-Bera (JB):                 7.31\n",
            "Prob(Q):                              0.67   Prob(JB):                         0.03\n",
            "Heteroskedasticity (H):               0.80   Skew:                             0.46\n",
            "Prob(H) (two-sided):                  0.52   Kurtosis:                         3.95\n",
            "===================================================================================\n",
            "\n",
            "Warnings:\n",
            "[1] Covariance matrix calculated using the outer product of gradients (complex-step).\n"
          ]
        }
      ]
    },
    {
      "cell_type": "code",
      "source": [
        "pd.concat(lista_resultados)"
      ],
      "metadata": {
        "colab": {
          "base_uri": "https://localhost:8080/"
        },
        "id": "YbXPArulw4aA",
        "outputId": "2ef8cfc0-5b45-415c-a075-f106f58d16a2"
      },
      "execution_count": null,
      "outputs": [
        {
          "output_type": "execute_result",
          "data": {
            "text/plain": [
              "2019-06-01    394.185151\n",
              "2019-07-01    416.593092\n",
              "2019-08-01    414.357441\n",
              "2019-09-01    415.710279\n",
              "2019-10-01    445.856934\n",
              "2019-11-01    444.580722\n",
              "2019-12-01    446.399817\n",
              "2020-01-01    564.567115\n",
              "2020-02-01    483.776175\n",
              "2020-03-01    468.794896\n",
              "Freq: MS, dtype: float64"
            ]
          },
          "metadata": {},
          "execution_count": 142
        }
      ]
    },
    {
      "cell_type": "code",
      "source": [
        "resultado"
      ],
      "metadata": {
        "colab": {
          "base_uri": "https://localhost:8080/"
        },
        "id": "JWKYHRlVvpyt",
        "outputId": "1aae9ad1-569a-4df7-daf8-69d4db771645"
      },
      "execution_count": null,
      "outputs": [
        {
          "output_type": "execute_result",
          "data": {
            "text/plain": [
              "2019-06-01    394.185151\n",
              "2019-07-01    416.593092\n",
              "2019-08-01    414.357441\n",
              "2019-09-01    415.710279\n",
              "2019-10-01    445.856934\n",
              "2019-11-01    444.580722\n",
              "2019-12-01    446.399817\n",
              "2020-01-01    564.567115\n",
              "2020-02-01    483.776175\n",
              "Freq: MS, Name: predicted_mean, dtype: float64"
            ]
          },
          "metadata": {},
          "execution_count": 135
        }
      ]
    },
    {
      "cell_type": "code",
      "source": [
        "y_test"
      ],
      "metadata": {
        "colab": {
          "base_uri": "https://localhost:8080/"
        },
        "id": "jWBzwABZuT5F",
        "outputId": "b9157397-9196-4196-a233-91a5db7f4ec3"
      },
      "execution_count": null,
      "outputs": [
        {
          "output_type": "execute_result",
          "data": {
            "text/plain": [
              "Data\n",
              "2019-06-01    411.94\n",
              "2019-07-01    423.67\n",
              "2019-08-01    408.74\n",
              "2019-09-01    430.63\n",
              "2019-10-01    421.59\n",
              "2019-11-01    475.11\n",
              "2019-12-01    545.17\n",
              "2020-01-01    493.03\n",
              "2020-02-01    481.91\n",
              "2020-03-01    556.28\n",
              "Name: cafe_aribica, dtype: float64"
            ]
          },
          "metadata": {},
          "execution_count": 134
        }
      ]
    },
    {
      "cell_type": "code",
      "source": [
        "X_test_temp"
      ],
      "metadata": {
        "colab": {
          "base_uri": "https://localhost:8080/",
          "height": 112
        },
        "id": "AjABIQvvukxf",
        "outputId": "cf1555c9-d42d-43b8-a235-e293b6d2a78f"
      },
      "execution_count": null,
      "outputs": [
        {
          "output_type": "execute_result",
          "data": {
            "text/plain": [
              "            dolar    diesel  12_MESES\n",
              "Data                                 \n",
              "2019-06-01   3.86  3.622075      3.37"
            ],
            "text/html": [
              "\n",
              "  <div id=\"df-755a76de-b6e7-45fb-b419-eacf9563e289\" class=\"colab-df-container\">\n",
              "    <div>\n",
              "<style scoped>\n",
              "    .dataframe tbody tr th:only-of-type {\n",
              "        vertical-align: middle;\n",
              "    }\n",
              "\n",
              "    .dataframe tbody tr th {\n",
              "        vertical-align: top;\n",
              "    }\n",
              "\n",
              "    .dataframe thead th {\n",
              "        text-align: right;\n",
              "    }\n",
              "</style>\n",
              "<table border=\"1\" class=\"dataframe\">\n",
              "  <thead>\n",
              "    <tr style=\"text-align: right;\">\n",
              "      <th></th>\n",
              "      <th>dolar</th>\n",
              "      <th>diesel</th>\n",
              "      <th>12_MESES</th>\n",
              "    </tr>\n",
              "    <tr>\n",
              "      <th>Data</th>\n",
              "      <th></th>\n",
              "      <th></th>\n",
              "      <th></th>\n",
              "    </tr>\n",
              "  </thead>\n",
              "  <tbody>\n",
              "    <tr>\n",
              "      <th>2019-06-01</th>\n",
              "      <td>3.86</td>\n",
              "      <td>3.622075</td>\n",
              "      <td>3.37</td>\n",
              "    </tr>\n",
              "  </tbody>\n",
              "</table>\n",
              "</div>\n",
              "    <div class=\"colab-df-buttons\">\n",
              "\n",
              "  <div class=\"colab-df-container\">\n",
              "    <button class=\"colab-df-convert\" onclick=\"convertToInteractive('df-755a76de-b6e7-45fb-b419-eacf9563e289')\"\n",
              "            title=\"Convert this dataframe to an interactive table.\"\n",
              "            style=\"display:none;\">\n",
              "\n",
              "  <svg xmlns=\"http://www.w3.org/2000/svg\" height=\"24px\" viewBox=\"0 -960 960 960\">\n",
              "    <path d=\"M120-120v-720h720v720H120Zm60-500h600v-160H180v160Zm220 220h160v-160H400v160Zm0 220h160v-160H400v160ZM180-400h160v-160H180v160Zm440 0h160v-160H620v160ZM180-180h160v-160H180v160Zm440 0h160v-160H620v160Z\"/>\n",
              "  </svg>\n",
              "    </button>\n",
              "\n",
              "  <style>\n",
              "    .colab-df-container {\n",
              "      display:flex;\n",
              "      gap: 12px;\n",
              "    }\n",
              "\n",
              "    .colab-df-convert {\n",
              "      background-color: #E8F0FE;\n",
              "      border: none;\n",
              "      border-radius: 50%;\n",
              "      cursor: pointer;\n",
              "      display: none;\n",
              "      fill: #1967D2;\n",
              "      height: 32px;\n",
              "      padding: 0 0 0 0;\n",
              "      width: 32px;\n",
              "    }\n",
              "\n",
              "    .colab-df-convert:hover {\n",
              "      background-color: #E2EBFA;\n",
              "      box-shadow: 0px 1px 2px rgba(60, 64, 67, 0.3), 0px 1px 3px 1px rgba(60, 64, 67, 0.15);\n",
              "      fill: #174EA6;\n",
              "    }\n",
              "\n",
              "    .colab-df-buttons div {\n",
              "      margin-bottom: 4px;\n",
              "    }\n",
              "\n",
              "    [theme=dark] .colab-df-convert {\n",
              "      background-color: #3B4455;\n",
              "      fill: #D2E3FC;\n",
              "    }\n",
              "\n",
              "    [theme=dark] .colab-df-convert:hover {\n",
              "      background-color: #434B5C;\n",
              "      box-shadow: 0px 1px 3px 1px rgba(0, 0, 0, 0.15);\n",
              "      filter: drop-shadow(0px 1px 2px rgba(0, 0, 0, 0.3));\n",
              "      fill: #FFFFFF;\n",
              "    }\n",
              "  </style>\n",
              "\n",
              "    <script>\n",
              "      const buttonEl =\n",
              "        document.querySelector('#df-755a76de-b6e7-45fb-b419-eacf9563e289 button.colab-df-convert');\n",
              "      buttonEl.style.display =\n",
              "        google.colab.kernel.accessAllowed ? 'block' : 'none';\n",
              "\n",
              "      async function convertToInteractive(key) {\n",
              "        const element = document.querySelector('#df-755a76de-b6e7-45fb-b419-eacf9563e289');\n",
              "        const dataTable =\n",
              "          await google.colab.kernel.invokeFunction('convertToInteractive',\n",
              "                                                    [key], {});\n",
              "        if (!dataTable) return;\n",
              "\n",
              "        const docLinkHtml = 'Like what you see? Visit the ' +\n",
              "          '<a target=\"_blank\" href=https://colab.research.google.com/notebooks/data_table.ipynb>data table notebook</a>'\n",
              "          + ' to learn more about interactive tables.';\n",
              "        element.innerHTML = '';\n",
              "        dataTable['output_type'] = 'display_data';\n",
              "        await google.colab.output.renderOutput(dataTable, element);\n",
              "        const docLink = document.createElement('div');\n",
              "        docLink.innerHTML = docLinkHtml;\n",
              "        element.appendChild(docLink);\n",
              "      }\n",
              "    </script>\n",
              "  </div>\n",
              "\n",
              "    </div>\n",
              "  </div>\n"
            ]
          },
          "metadata": {},
          "execution_count": 117
        }
      ]
    },
    {
      "cell_type": "code",
      "source": [
        "y_temp\n"
      ],
      "metadata": {
        "colab": {
          "base_uri": "https://localhost:8080/"
        },
        "id": "vXGzS40qsu5B",
        "outputId": "d0ef40a4-4a2d-4b5e-97c9-4b0d6741b722"
      },
      "execution_count": null,
      "outputs": [
        {
          "output_type": "execute_result",
          "data": {
            "text/plain": [
              "Data\n",
              "2010-01-01    280.75\n",
              "2010-02-01    278.68\n",
              "2010-03-01    279.70\n",
              "2010-04-01    282.18\n",
              "2010-05-01    289.46\n",
              "               ...  \n",
              "2019-01-01    410.87\n",
              "2019-02-01    407.70\n",
              "2019-03-01    395.61\n",
              "2019-04-01    384.35\n",
              "2019-05-01    389.04\n",
              "Name: cafe_aribica, Length: 113, dtype: float64"
            ]
          },
          "metadata": {},
          "execution_count": 105
        }
      ]
    },
    {
      "cell_type": "code",
      "source": [
        "resultado"
      ],
      "metadata": {
        "colab": {
          "base_uri": "https://localhost:8080/"
        },
        "id": "Rw7zOEiHsGHZ",
        "outputId": "1cfd27ae-fa01-4fd3-8343-14eca291a4d9"
      },
      "execution_count": null,
      "outputs": [
        {
          "output_type": "execute_result",
          "data": {
            "text/plain": [
              "2019-06-01    394.185151\n",
              "Freq: MS, dtype: float64"
            ]
          },
          "metadata": {},
          "execution_count": 89
        }
      ]
    },
    {
      "cell_type": "code",
      "source": [
        "modelo_fit.predict(start=113, exog=X_test[:1])"
      ],
      "metadata": {
        "colab": {
          "base_uri": "https://localhost:8080/"
        },
        "id": "kQ6A2l_2nY_y",
        "outputId": "d0dfebde-a95b-4017-cd5d-3719c1ca9057"
      },
      "execution_count": null,
      "outputs": [
        {
          "output_type": "execute_result",
          "data": {
            "text/plain": [
              "2019-06-01    394.185151\n",
              "Freq: MS, dtype: float64"
            ]
          },
          "metadata": {},
          "execution_count": 63
        }
      ]
    },
    {
      "cell_type": "code",
      "source": [
        "y_train"
      ],
      "metadata": {
        "colab": {
          "base_uri": "https://localhost:8080/"
        },
        "id": "lJhISecfmWWh",
        "outputId": "724f02bc-3335-4130-8c71-6aaec3140c8c"
      },
      "execution_count": null,
      "outputs": [
        {
          "output_type": "execute_result",
          "data": {
            "text/plain": [
              "Data\n",
              "2010-01-01    280.75\n",
              "2010-02-01    278.68\n",
              "2010-03-01    279.70\n",
              "2010-04-01    282.18\n",
              "2010-05-01    289.46\n",
              "               ...  \n",
              "2019-01-01    410.87\n",
              "2019-02-01    407.70\n",
              "2019-03-01    395.61\n",
              "2019-04-01    384.35\n",
              "2019-05-01    389.04\n",
              "Name: cafe_aribica, Length: 113, dtype: float64"
            ]
          },
          "metadata": {},
          "execution_count": 56
        }
      ]
    },
    {
      "cell_type": "code",
      "source": [
        "y_test"
      ],
      "metadata": {
        "colab": {
          "base_uri": "https://localhost:8080/"
        },
        "id": "fDJ9DxUNnItN",
        "outputId": "137d2ee8-57dc-4518-a947-fec70fed2d7a"
      },
      "execution_count": null,
      "outputs": [
        {
          "output_type": "execute_result",
          "data": {
            "text/plain": [
              "array([411.94, 423.67, 408.74, 430.63, 421.59, 475.11, 545.17, 493.03,\n",
              "       481.91, 556.28])"
            ]
          },
          "metadata": {},
          "execution_count": 48
        }
      ]
    },
    {
      "cell_type": "markdown",
      "source": [],
      "metadata": {
        "id": "d0M6tOWblDhI"
      }
    }
  ]
}